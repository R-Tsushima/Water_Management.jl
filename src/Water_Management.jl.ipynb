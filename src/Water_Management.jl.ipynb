{
 "cells": [
  {
   "cell_type": "markdown",
   "metadata": {
    "collapsed": true
   },
   "source": [
    "# 9.7.4 Water Management\n",
    "\n",
    "From Miranda and Fackler, Applied Computational Economics and Finance, 2002, Section 9.7.4"
   ]
  },
  {
   "cell_type": "markdown",
   "metadata": {},
   "source": [
    "貯水池の水を灌漑用水とレクリエーションに使うことができる。年初に $s$ 単位の水が貯水池にあって、灌漑に $x$ 単位使われたとき、農家とレクリエーション使用者のその年の利益はそれぞれ $F(x)$ と $U(s-x)$ になる。貯水池の水は冬季にランダムに $\\epsilon$ 単位降る雨によって補充される。貯水池は最大 $M$ 単位の水しか貯められない。"
   ]
  },
  {
   "cell_type": "markdown",
   "metadata": {},
   "source": [
    "このモデルは an infinite horizon ,stochastic model である。\n",
    "\n",
    "The state variable: $s \\in [0, M]$ …年初の貯水池の水量。\n",
    "\n",
    "The action variable: $x \\in [0, s]$ …灌漑に使われる水量。\n",
    "\n",
    "The state transition function: $g(s, x, \\epsilon) = min(s - x + \\epsilon, M)$\n",
    "\n",
    "The reward function: $f(s, x) = F(x) + U(s - x)$\n",
    "\n",
    "年初に $s$ 単位の水がある貯水池の社会的価値がベルマン方程式を満たす。\n",
    "\n",
    "$V(s) = \\max_{0 \\leq x \\leq s}\\{F(x) + U(s - x) + \\delta E_\\epsilon V (min(s - x + \\epsilon, M)\\}$"
   ]
  },
  {
   "cell_type": "markdown",
   "metadata": {
    "collapsed": true
   },
   "source": [
    "$F'(0), U'(0), M$ が十分に大きいと仮定すると、最適解において制約が束縛されないので、水の潜在価格 $\\lambda(s)$ はオイラーの平衡条件を満たす。\n",
    "\n",
    "$F'(x) - U'(s - x) - \\delta E_\\epsilon \\lambda (s - x + \\epsilon) = 0$\n",
    "\n",
    "$\\lambda(s) = U'(s - x) + \\delta E_\\epsilon \\lambda (s - x + \\epsilon)$\n",
    "\n",
    "このことは最適経路の周辺で $F'_t = U'_t + \\delta E_t \\lambda_{t + 1}$ が成立することを示す。"
   ]
  },
  {
   "cell_type": "markdown",
   "metadata": {},
   "source": [
    "確実性等価での安定状態での貯水池の水量 $s^*$ 、灌漑に用いる水量 $x^*$ 、潜在価格 $\\lambda^*$ で方程式を解くと、\n",
    "\n",
    "$x^* = \\bar{\\epsilon}$\n",
    "\n",
    "$F'(x^*) = \\lambda^*$\n",
    "\n",
    "$U'(s^* - x^*) = (1 - \\delta)F'(x^*)$\n",
    "\n",
    "ここで $\\bar{\\epsilon}$ は年間の平均降水量である。この条件は $x^*$ と $\\lambda^*$ は割引因子の影響を受けず、 $s^*$ は割引因子の影響を受けることを示す。"
   ]
  },
  {
   "cell_type": "code",
   "execution_count": 1,
   "metadata": {},
   "outputs": [],
   "source": [
    "using QuantEcon\n",
    "using BasisMatrices\n",
    "using Optim \n",
    "using Plots"
   ]
  },
  {
   "cell_type": "code",
   "execution_count": 2,
   "metadata": {},
   "outputs": [],
   "source": [
    "struct WaterManagement\n",
    "    a1::Float64\n",
    "    a2::Float64\n",
    "    b1::Float64\n",
    "    b2::Float64\n",
    "    sigma::Float64\n",
    "    delta::Float64\n",
    "    s_vec::Vector{Float64}\n",
    "end"
   ]
  },
  {
   "cell_type": "code",
   "execution_count": 3,
   "metadata": {},
   "outputs": [
    {
     "data": {
      "text/plain": [
       "([2.03078, 2.27248, 2.73223, 3.36502, 4.10891, 4.89109, 5.63498, 6.26777, 6.72752, 6.96922], Array{Float64,1}[[2.03078, 2.27248, 2.73223, 3.36502, 4.10891, 4.89109, 5.63498, 6.26777, 6.72752, 6.96922]])"
      ]
     },
     "execution_count": 3,
     "metadata": {},
     "output_type": "execute_result"
    }
   ],
   "source": [
    "n = 10\n",
    "smin = 2\n",
    "smax = 7\n",
    "fspace = Basis(ChebParams(n, smin, smax))\n",
    "snodes = nodes(fspace)"
   ]
  },
  {
   "cell_type": "code",
   "execution_count": 4,
   "metadata": {},
   "outputs": [
    {
     "data": {
      "text/plain": [
       "WaterManagement(1.0, 2.0, -2.0, -3.0, 0.2, 0.9, [2.03078, 2.27248, 2.73223, 3.36502, 4.10891, 4.89109, 5.63498, 6.26777, 6.72752, 6.96922])"
      ]
     },
     "execution_count": 4,
     "metadata": {},
     "output_type": "execute_result"
    }
   ],
   "source": [
    "WM =WaterManagement(1, 2, -2, -3, 0.2, 0.9, snodes[1])"
   ]
  },
  {
   "cell_type": "markdown",
   "metadata": {},
   "source": [
    "### 一次線形補間"
   ]
  },
  {
   "cell_type": "code",
   "execution_count": 5,
   "metadata": {},
   "outputs": [
    {
     "data": {
      "text/plain": [
       "(1.0, 2.0, -2.0, -3.0, 0.2, 0.9)"
      ]
     },
     "execution_count": 5,
     "metadata": {},
     "output_type": "execute_result"
    }
   ],
   "source": [
    "a1, a2, b1, b2, sigma, delta = WM.a1, WM.a2, WM.b1, WM.b2, WM.sigma, WM.delta"
   ]
  },
  {
   "cell_type": "code",
   "execution_count": 6,
   "metadata": {},
   "outputs": [
    {
     "data": {
      "text/plain": [
       "([0.707222, 1.0, 1.41398], [0.166667, 0.666667, 0.166667])"
      ]
     },
     "execution_count": 6,
     "metadata": {},
     "output_type": "execute_result"
    }
   ],
   "source": [
    "nshocks = 3\n",
    "epsilon, weight = qnwlogn(nshocks, 0, WM.sigma^2)"
   ]
  },
  {
   "cell_type": "code",
   "execution_count": 7,
   "metadata": {},
   "outputs": [
    {
     "data": {
      "text/plain": [
       "update_Bellman1 (generic function with 1 method)"
      ]
     },
     "execution_count": 7,
     "metadata": {},
     "output_type": "execute_result"
    }
   ],
   "source": [
    "function update_Bellman1(WM::WaterManagement, V::Vector)\n",
    "    a1, a2, b1, b2, sigma, delta = WM.a1, WM.a2, WM.b1, WM.b2, WM.sigma, WM.delta\n",
    "    V_new = similar(V)\n",
    "    x_opt = similar(V)\n",
    "    V_func = LinInterp(WM.s_vec, V)\n",
    "    \n",
    "    for (s_idx, s) in enumerate(WM.s_vec)\n",
    "        objective(x) = -(a1/(1+b1) * x^(1+b1) + a2/(1+b2) * (s-x)^(1+b2)\n",
    "                       + delta * dot(weight ,V_func.(s-x+epsilon)))\n",
    "        opt = optimize(objective, 1e-10, s)\n",
    "        V_new[s_idx] = - opt.minimum\n",
    "        x_opt[s_idx] = opt.minimizer\n",
    "    end\n",
    "    \n",
    "    return V_new, x_opt\n",
    "    \n",
    "end"
   ]
  },
  {
   "cell_type": "code",
   "execution_count": 8,
   "metadata": {
    "collapsed": true
   },
   "outputs": [],
   "source": [
    "# Initial guess\n",
    "V = zeros(length(WM.s_vec));"
   ]
  },
  {
   "cell_type": "code",
   "execution_count": 9,
   "metadata": {
    "collapsed": true
   },
   "outputs": [],
   "source": [
    "V_computed = similar(V)\n",
    "x_opt = similar(V)\n",
    "resid1 = Vector{Float64}(n)\n",
    "tol = sqrt(eps())\n",
    "max_iter = 500\n",
    "V_error = 1.0\n",
    "i = 1\n",
    "\n",
    "while V_error > tol && i <= max_iter\n",
    "    V_computed, x_opt = update_Bellman1(WM, V)\n",
    "    V_error = maximum(abs, V_computed - V) \n",
    "    for j in 1:length(V_computed)\n",
    "       resid1[j] =  V_computed[j] - V[j]\n",
    "    end\n",
    "    copy!(V, V_computed)\n",
    "    i += 1\n",
    "end"
   ]
  },
  {
   "cell_type": "code",
   "execution_count": 10,
   "metadata": {},
   "outputs": [
    {
     "data": {
      "text/html": [
       "<img src=\"data:image/png;base64,iVBORw0KGgoAAAANSUhEUgAAAlgAAAGQCAYAAAByNR6YAAAABHNCSVQICAgIfAhkiAAAAAlwSFlzAAAPYQAAD2EBqD+naQAAADl0RVh0U29mdHdhcmUAbWF0cGxvdGxpYiB2ZXJzaW9uIDIuMS4wLCBodHRwOi8vbWF0cGxvdGxpYi5vcmcvpW3flQAAIABJREFUeJzs3Xd8VFX+//H3vTMkECDB0GMCgVBFMFSRroAKKh1ExcpaVll+awMsIO4iYt3FdVkbAroKCEi1UkSpIk1Eek+kk5CEkpDce35/RPI1S+iTTGbyej4eeZi5c2fmEw8w73zOmXssY4wRAAAAfMb2dwEAAADBhoAFAADgY0EVsIwxSk1NFbOeAADAn4IqYKWlpSkiIkJpaWn+LgUXKCUlxd8l4CIxZoGF8Qo8jFlwCKqAhcDjOI6/S8BFYswCC+MVeBiz4EDAAgAA8DECFgAAgI95/V0AAAAITmlpadq3b59c1/V3KZfF4/GoatWqCgkJueDHELAAAIBPua6rl19+WdOnT/d3KT4TFhamiRMn6sorr7yg8wlYAADAp15++WXNmDFDAwcOVMOGDVWsWDF/l3RZ0tPTNXToUL344ot65513ZNvnX2FFwAIAAD6Tmpqq6dOna+DAgbrnnnv8XY7PDBgwQM8995yOHDmi8uXLn/d8FrkDAACf2b9/vySpYcOGfq7Et6KjoyVJycnJF3Q+AQsAAPjM6QXtgT4t+L88Ho8kXfCCfQIWAAAoknbt2qV27dopIiJCTZo08elzE7AAAECRFB4erhEjRujTTz/1+XMTsAAAQFB77bXX9PDDD+fcPnr0qMqVKydJatWqlUqWLOnz1+RThAAAIN/tSDU6esr3z1smRKoebp3znAcffFC1a9fWq6++qoiICI0dO1Zdu3ZVZGSk7wv6HQELAADkq8PpRjU/y5JrfP/cHkva38+rcsXPHrLKlCmjnj17avz48Ro4cKD+85//aMqUKb4v5g8IWAAAIF+VK25pax9vvnWwzhWuThs4cKC6deumuLg4VaxYMd8vI0HAAgAA+e5803j5rU6dOoqNjdWf//xnvfrqq/n+eixyBwAARcKDDz6orKws9erVS5KUkZGh6Oho9e7dW+vWrVN0dLSeeeYZn7wWHSwAAFAkzJ8/X48++mjORVBDQ0OVmJiYL69FBwsAAAS1vXv3qk6dOlq7dq3++te/Fshr0sECAABBLSoqSps2bSrQ16SDBQAA4GMELAAA4DOnN0VOT0/3cyW+lZmZKUmy7QuLTkwRAgAAn6latarCwsI0bNgwPfbYY4qOjs4JXYEqMzNT77//vkJCQhQVFXVBjyFgAQAAnwkJCdHEiRP14osv6rnnnvN3OT4TEhKiN998U6VKlbqg8wlYAADAp6688kq98847OnLkiJKTk+W6rr9Luiy2bSsqKuqCw5VEwAIAAPnAtm2VL19e5cuX93cpfsEidwAAAB8jYAEAAPgYAQsAAMDHCFgAAAA+RsACAADwsXwPWAMHDlRsbKwsy9L69evzPGf8+PEqU6aM4uPjFR8fr+uvvz7X/SNGjFBcXJzi4uI0dOjQ/C4ZAADgsuR7wOrVq5cWL16sqlWrnvO8Dh06aO3atVq7dq2+++67nOM//PCDJk6cqHXr1mnDhg366quv9M033+R32QAAAJcs3wNWmzZtFB0dfcmPnzx5su677z6VLFlSoaGheuCBBzRx4kQfVggAAOBbhWYN1vfff6/4+Hi1bNlSU6dOzTm+Z8+eXN2v2NhY7dmz55zPlZqamusrIyMj3+oGAAD4X4XiSu633nqr+vTpo7CwMG3cuFE33nijoqOj1bx5c0mSZVk55xpjzvt8MTExuW4PGjRIgwcP9m3R8Ink5GR/l4CLxJgFFsYr8DBmgScyMvKMY4UiYJUrVy7n+7p166pz585asmSJmjdvripVqmjXrl059+/evVtVqlQ55/MlJCQoPDw853ZoaKhCQ0N9Xjd8I68/mCjcGLPAwngFHsYs8BWKKcLffvst5/sDBw5owYIFatiwoSSpd+/emjBhgo4fP66MjAx9+OGH6tu37zmfLzw8PNcX4QoAABSkfA9Yjz32mKKjo5WYmKgOHTqoRo0akqTOnTtr5cqVkqR///vfqlevnuLj49WxY0c9/vjjuuGGGyRJ7dq1U58+fVS/fn3VrVtXN954o26++eb8LhsAAOCSWeZCFjUFiNTUVEVERCglJSXXFCEKr6SkJFrhAYYxCyyMV+BhzIJDoZgiBAAACCYELAAAAB8jYAEAAPgYAQsAAMDHCFgAAAA+RsACAADwMQIWAACAjxGwAAAAfIyABQAA4GMELAAAAB8jYAEAAPgYAQsAAMDHCFgAAAA+RsACAADwMQIWAACAj3n9XQAAAEBhk+Ua7T4mbU0x2pZqtDVF2ppqtC3FqG1lS++3OXeEImABAIAiKcs12vPHEJWa/f3WFKOdaVKWyT4vxJaqh0s1wy3dWsVWl6rWeZ+bgAUAAIKWczpEpZrfg9TvISo1O0RlutnnFbOl6qWlmhHZIapGRHagqhlhKaak5LHPH6r+iIAFAAAC3pF0o9WHze9BSr9P6xntyCNE1Qi31DnGVs2I7O9rhluqUuriQ9S5ELAAAEDA2pFq9Po6V+O2uEp3JK/1f9N5N8fYqhme3ZWq8XuI8vowRJ0LAQsAAAScNYeNXvnZ0ZSdRmVDpefibfWNsxVbuuBC1LkQsAAAQEAwxui7vUav/Ozq29+MqpWW/tXC1v21bJXw+j9U/REBCwAAFGqOazR9V3awWnnY6JpIaeINHvWqZhWKblVeCFgAAKBQSs8y+nib0Ws/O9qaKl1f2dLXN3t0Y7Qlyyqcweo0AhYAAChUUk4ZvbPB1T/XuzpwUupRzdInN9hqWj5wNqAhYAEAgEJh3wmjf/7i6p2N2Z8IvLeWpafqe1SrTOHuVuWFgAUAAPxqy1Gj19Y5+mirUahH+nNdW3+tb6tyWOAFq9MIWAAAwC9+OuTqlZ9dfb7TqEIJ6cXGth6pa6tMaOAGq9MIWAAAoMAYYzT3N6NRa119t8+oRrj0TiuP7qlpqXghu9TC5SBgAQCAfJflGk3dafTqz47WHJGalLM0pb1H3WMtn25RU1gQsAAAQL45mWU0bourN9a52pEmdbzS0vzOtq6PKvyXWrgcBCwAAOBzyRlGYza4Gr3e1ZEMqXc1S1M6eNSoXPCGqj8iYAEAAJ9JPGb0j/Wu3tvkKsuV7q9l68kGtuLCi0awOo2ABQAALtvGZKNX1zn6ZJtRSa80sJ6tgfVsVQzgSy1cDgIWAAC4ZMsOZF9qYeZuo6gw6eWmth6qY6t0SNEMVqcRsAAAwEUxxuirBKNRP7tatN+odoQ0to1Hd9WwFOop2sHqNAIWAAC4IJmu0eTt2VOBvyRJzStYmt7Roy5VLdlB/InAS0HAAgAA53Q802jsZldv/OJqzzGpc4ylt1vYal0puC+1cDkIWAAAIE+H043e/tXV27+6OnpK6htnaVADjxqUJVSdDwELAADksjvN6M1fXH2w2ZUx0p/q2Hqivq3Y0gSrC0XAAgAAkqRfkrK3spm43SgiRHqqga2/1LNVrjjB6mIRsAAAKMKMMVq8P/sTgV8mGMWUlN5obqt/bVulihGsLhUBCwCAIijtlNHE7Ubvb3K18rBRvSukj9p51DfOUrEg3Hy5oBGwAAAoIowxWnEoO1RN2m500pE6RVuac5NHnWK41IIvEbAAAAhyyRlG/93q6v3Nrn5JkqqUkgZdY+v+WrZiShGq8gMBCwCAIGSM0aL92d2qqTuNslypS1VLrzaz1fFKSx6mAfMVAQsAgCBy6KTRhK2uPtjkanOKFBcuvdDI1n21bFUqohsv+wMBCwCAAOcaowV7jd7b6GrGbiNLUo9qlsa0tNUuirVV/kDAAgAgQO09bjR+S/YFQXemSXXLSK80s3V3Ta5d5W8ELAAAAojjGn2dmL22as4eoxBb6lPd0sftbLWoyN6AhQUBCwCAALA7zejDLa4+3Owq8bgUX1Z6q4WtO+NslQklVBU2BCwAAAqpTNdo9u7sbtU3iUYli0l3xtl6sI6lxuXoVhVmBCwAAAqZbSlGH2x2NX6LqwMnpWsrWHq/tUe3x1lsXxMgCFgAABQC6VlG03cZjVlfQosPZalMiHR3TVt/qm2rQVlCVaAhYAEA4EcbkrOnAD/a6iopQ7qunPRxO496VrNUwkuwClQELAAACtiJLKPPdmQHq6UHjMoVl+6vZetPdWxVcNMUGVnC3yXiMhGwAAAoIGsOZ4eqT7a5Ss2UOlxpafINHnWNtRTqye5WJSX5uUj4BAELAIB8lHbKaOJ2o/c2uVp12KhymDSgnq3+tW1VD2cKMFgRsAAA8DFjjFYcyu5WTdpudNKROkVbmtHRo1uqWPKy0XLQI2ABAOAjyRlG/93q6v3Nrn5JkqqUkgZdY+v+WrZiShGqihICFgAAl8EYo0X7s7tVU3caZblSl6qWXm1mq+OVljx0q4okAhYAAJfg0EmjCVtdfbDJ1eYUqUa4NLyRrXtr2aoURqgq6ghYAABcINcYzf8tu1s1Y7eRJalnNUv/aWWrbWVLNlvX4HcELAAAzmPvcaNxW1yN3exqZ5pUt4z0SjNbd9e0Va44oQpnImABAJAHxzX6KsHo/c2uvthjFGJLfapb+ridrRYV2WgZ50bAAgDgD3anGY3d7OrDLa5+Oy7Fl5XeamHrzjhbZUIJVbgwBCwAQJGX6RrN2p29turbRKOSxaQ742w9WMdS43J0q3DxCFgAgCJrW4rRB5tdjdvi6uBJ6doKlt5v7dHtcZZKFSNU4dIRsAAARUp6ltH0Xdndqu/2GZUJke6uaetPtW01KEuogm8QsAAARULqKaPR612NXu/qSIbUupKlj9t51LOapRJeghV8i4AFAAhqxzON3v7V1avrXB3Pkh6sbeuxerbqlCFUIf8QsAAAQelkltF/Nrga9bOro6ekP9W29Wy8rWj2BEQBIGABAIJKhmP03kZXI9e6OpQu3V/L0nMNPYotTbBCwSFgAQCCwikn+2rrI9a42ntC6lfD0rBGHsWFE6xQ8AhYAICAluUafbzV6G+rHe0+JvWNyw5WrLGCPxGwAAAByXGNJm43enG1o22p2Zsuz77Jo6sjCVbwPwIWACCguMZoyg6j4asdbToqdalq6bP2HjUsR7BC4UHAAgAEBGOMZuwyemG1o1+SpJujLX3UzlbT8ra/SwPOQMACABRqxhh9scdo2CpHa45I7aMsLeliq0VFghUKLwIWAKBQMsZo7m9Gw1a5+vGgUetKlhbeaqttZYIVCr98/1M6cOBAxcbGyrIsrV+/Ps9zJk+erIYNG+rqq69W/fr19a9//SvnvoULFyosLEzx8fE5XydPnszvsgEAfvTdXldtZju66StHlqS5nT36/lYP4QoBI987WL169dKgQYPUqlWrs54THR2tr776SpUqVVJKSooaN26sRo0aqWXLlpKkq666SitXrszvUgEAfrZkv6uhK7M3YW5cztIXN3nUKcaSZbGAHYEl3wNWmzZtznvO6SAlSREREapTp4527tyZ6zgAIHitOOhq2CpX3yQaNYiUZnT0qEtVghUCV6HrtW7YsEHLli3TDTfckHNs8+bNatSokZo2baoxY8ac9zlSU1NzfWVkZORnyQCAS7TmsNFt32Tp2pmO9hwz+qy9R2t6eNU11iZcIaAVqkXuiYmJ6tq1q9555x1FRUVJkho1aqTExERFREQoMTFRnTt3Vrly5dSnT5+zPk9MTEyu24MGDdLgwYPztXZcmuTkZH+XgIvEmAWWwjpeG1JsjdoQoi/2FlNcKVfvNs1Q95gseSzpaOEsucAU1jHD2UVGRp5xrNAErL1796pDhw56/vnn1bt375zj4eHhOd9HR0frjjvu0KJFi84ZsBISEnI9LjQ0VKGhoflTOC5bXn8wUbgxZoGlMI3XpqNGw1c5+myHUWxpaVxbj/rV8Mpr82/0HxWmMcOlKRQBa9++fWrfvr0GDx6se++994z7KlasKNu2lZaWpjlz5qh///7nfL7w8PBcAQsA4F/bUrL3Cvxku9GVYdK7rT26r5alYjbTgAhO+b4G67HHHlN0dLQSExPVoUMH1ahRQ5LUuXPnnE8GDhs2THv27NHo0aNzLsUwbtw4SdK0adNUv359XXPNNWrevLk6duyo+++/P7/LBgD4wK40o/7fZ6nOlCzN22v01nW2tt7u1YN1bMIVgppljDH+LsJXUlNTFRERoZSUFDpYASIpKYlWeIBhzAKLv8Yr4ZjRS2tcjd3sKrK49Mw1th6ua6uEl1B1PvwdCw6FYooQABAc9p0wenmtq3c3uipdTBrZ1NajV9kqWYxghaKFgAUAuGwHTxq98rOrMRtcFfdIwxrZGljPVukQghWKJgIWAOCSHUk3en2dq3/96spjSYOvsfXXq22VCSVYoWgjYAEALtrRDKM3f3H1z/WuXCMNvNrWU/VtRRYnWAESAQsAcBHSThmNXu/qjV9cZTjSY/VsDWpgq3wJghXwRwQsAMB5Hc80evtXV6+tc3UsS3q4jq0h8bYqhxGsgLwQsAAAZ3Uyy+idja5G/ewqOUP6U21bz8bbii5FsALOhYAFADhDhmP0/iZXI9e6OnhSuq+WpecbehRbmmAFXAgCFgAgR6ZrNG6z0Yg1jn47IfWrYWloQ49qRBCsgItBwAIAKMs1+nir0d/XONqVJt0eZ+mFRh7VKUOwAi4FAQsAijDHNZq0w+jFVY62pko9q1madaNHV0cSrIDLQcACgCLINUZTdxgNX+1o41HptiqWJrf3qGE5ghXgCwQsAChCjDGaudvohVWO1iVJN0dbmtDOVtPytr9LA4IKAQsAigBjjL5MMBq2ytHqw1L7KEtLuthqUZFgBeQHAhYABDFjpLmJroaucvXjQaPWlSwtvNVW28oEKyA/EbAAIEgt3Ovq2R9LaNlhR9dWsPRtJ486XGnJslhnBeQ3AhYABJmlB1wNXelqwV6ja8pY+uImjzrFEKyAgkTAAoAgseKgqxdWufo60ahBpDS9o0etS6epbNni/i4NKHLyDFiu6+qDDz7Q1KlTlZiYqPT09Fz3W5al7du3F0iBAIBzW3vEaNhKR7P3GNUtI33W3qOe1SzZlqWkJH9XBxRNeQaswYMH64033lDLli3VunVrhYSEFHRdAIDzWJ+UfbmFz3cZ1QyXPrneo9urW/LYTAUC/pZnwPrkk080fPhwDRs2rKDrAQCcx+aj2RcInbzdKLa0NK6tR/1qWPISrIBCI8+AlZ6erpYtWxZ0LQCAc9h3wuiZFY4+3mZ0ZZj0bmuP7qtlqRjBCih08rwQyl133aXZs2cXdC0AgDxkuUb/Wu+ozmdZ+jLB6K3rbG293asH69iEK6CQyrOD1bx5cz3//PM6cOCAOnbsqDJlypxxTo8ePfK9OAAo6n486OrPix2tPSI9UtfWS01tXRFKqAIKuzwD1t133y1J2r17tyZPnnzG/ZZlyXGc/K0MAIqwpHSjZ35y9f4mV43KWfqxG/sFAoEkz4C1c+fOgq4DACDJNUYTthgNWuEo05X+1cLWI3VtPhkIBJg8A1bVqlULug4AKPLWHTF6dImjJQeM+tWw9Nq1HlUKI1gBgeisV3I/deqUJk2apEWLFikpKUmRkZFq06aNbr/9dq6LBQA+lHbKaPhqV6PXu6oVIX13i0ftopgOBAJZngHr4MGDat++vX799VdVrVpVlSpV0urVqzV27Fi99tprmjdvnipUqFDQtQJAUDHGaNpOo78ud5ScIb3UxNbj9W2FeOhaAYEuz1+RnnrqKR05ckRLly7Vzp07tWzZspz/JiUl6emnny7oOgEgqGxLMer0taPe8x01LWdpQy+vBsd7CFdAkMgzYH355Zd65ZVX1Lx581zHr732Wo0cOVJffPFFgRQHAMEmPcto+CpHV0/L0uajRrNv9Gj6jV5VLU2wAoJJnlOEJ06cUNmyZfN8QNmyZXXixIl8LQoAgtHXCa4GLHW055g0qIGtZxvaCvMSrIBglGcHq3Hjxho9evQZ17pyHEejR49W48aNC6Q4AAgGCceMes3LUqevHcWWsvRLT69GNPUQroAglmcHa+TIkerYsaOqV6+ubt26qVKlSjpw4IBmzJihAwcOaO7cuQVdJwAEnEzXaPR6V8NXuSpdTJp4g0e3V7dkWQQrINjlGbBat26tJUuW6KWXXtLEiROVnJysyMhItWrVSs8995waNWpU0HUCQEBZtM/Vn5c42nhU+ks9Wy82thURQrACioqzXgercePG+vzzzwuyFgAIeIdOGj39o6MJW42aV7C0qrtH8WUJVkBRc9aABQC4cK4xen+Tq2d+ciVJ77X2qH9tSzbTgUCRlBOwunTpojfeeEM1a9ZUly5dzvkgy7I0c+bMfC8OAALB6sNGf17saMUhowdqWRrVzKPyJQhWQFGWE7DS0tJyPjWYmprKIkwAOI+jGUZDV7oas9FVvSukxbd51LISW9wA+EPA+u6773IOLly40B+1AEBAMMbo0+1GTy53dDxLev1aW3+pZ8tr84spgGx5/qr10Ucf6ciRI3k+ICkpSR999FG+FgUAhdXGZKMbvnDU7ztHbSpZ2tTbq8frewhXAHLJM2Ddf//92r59e54P2Llzp+6///58LQoACpvjmUbPrHB0zedZSjxu9PXNHn3WwasrSxKsAJwpz08RGmPO+oDk5GSVLl063woCgMJm1m5XA5c62n9Ser6hrUENbBXnKuwAziEnYH311Vf66quvcu544403VLFixVwnp6ena8GCBYqPjy+4CgHAT3alGQ1c6mj2HqOboy3Nv8WjuHCCFYDzywlYW7Zs0ezZsyVlX4Zh0aJFCg0NzXVySEiIrr76ao0cObJgqwSAApThGL2xztWINa7KFpemdfCoeyxb3AC4cJbJYz6wWrVqmjFjhq655hp/1HTJUlNTFRERoZSUFIWHh/u7HFyApKQkRUZG+rsMXIRgH7P5v7l6bImj7anS4/VtDWtkq1SxwA1WwT5ewYgxCw55rsHauXNnQdcBAH6170T2ZRcmbjdqVdHS1A4eXR0ZuMEKgH+dc6ucbdu2acuWLUpPTz/jvh49euRbUQBQULJcozEbXA1d6SrUI41v69E9NZkOBHB58gxYqamp6tGjR87FR0/PIv7xH5zTV30HgEC1/ICrPy9x9PMR6eG6tl5qYiuyOMEKwOXL8zpYgwcP1r59+7Ro0SIZYzR9+nQtXLhQ/fv3V7Vq1bR8+fKCrhMAfCYp3ejhRY5azHJkW9Lyrh79p5WHcAXAZ/IMWF9//bWee+45XXvttZKkqKgotWnTRu+99566deumN954o0CLBABfcI3RuM2uak/J0qTtrv7VwtaKrl41q8D+gQB8K88pwoMHDyomJkYej0clS5bMtW1Op06d1LNnzwIrEAB8Yd0Ro0eXOFpywKhfDUuvXetRpTA6VgDyR56/tsXExOjw4cOSpJo1a2rWrFk59y1dulTFixcvmOoA4DKlncr+dGCj6Vk6kmG04BaPPr7eS7gCkK/y7GB17NhR8+bNU/fu3fX444/r3nvv1Y8//qiQkBCtWLFCTz75ZEHXCQAXxRijqTuN/rrMUXKGNKKJrSfq2wrxEKwA5L88A9Yrr7yiEydOSJLuvvtulSpVSlOnTtXJkyf19ttv6+GHHy7QIgHgYmxNMRqwxNG3vxl1rWpp9HUeVS1NsAJQcPIMWGFhYQoLC8u53b17d3Xv3r3AigKAS3Eyy2jUz65GrXUVFSbNutGj26qygB1AwTvnhUYBIFB8neBqwFJHe45JgxrYerahrTAvXSsA/pHnr3a2bcvj8eT55fV6VbZsWbVv3z5nc2gA8JeEY0a95mWp09eOqpaytK6nVyOaeghXAPwqzw7WyJEjNWbMGIWEhOjWW29VhQoVdODAAc2ePVtZWVnq16+ffvjhB3Xr1k2ffPKJ+vbtW9B1AyjiMl2j0etdDV/lqnQx6dPrPeobxxY3AAqHPANWcnKyGjdurGnTpsm2/6/J9Y9//EM9evRQZmamFi9erL59++qVV14hYAEoUIv2ZW9xs/GoNOAqW39rYisihGAFoPDIc4pw/Pjxevjhh3OFKyl76vCRRx7RhAkTJEl33nmnNm3alP9VAoCkgyeN7luYpTZzHJUqZmllN69Gt/AQrgAUOnl2sE6ePKk9e/bk+YDdu3crPT1dklSqVCmFhITkX3UAIMlxjd7f5OqZn1xZlvRea4/617ZkMx0IoJDKM2B16dJFQ4YMUalSpXTbbbepdOnSSktL08yZMzVkyBB169ZNkrRu3TrVqFGjQAsGULSsOpS9xc2KQ0YP1LI0qplH5UsQrAAUbnkGrDFjxui+++5Tv379ZFmWihUrpszMTBlj1L17d7399tuSpCpVqujll18u0IIBFA1HM4yGrnQ1ZqOreldIi2/zqGUlrmkFIDDkGbDCw8P1+eefa+PGjfrpp5+0b98+Va5cWU2bNlXdunVzzuvRo0eBFQqgaDDG6NPt2fsHHs+SXmtm6y9X2ypm07UCEDjOeaHRunXr5gpUAJCfNiZnTwcu3GfUu5qlN5t7FF2KYAUg8OQErNWrV6tu3boqUaKEVq9efd4HNmrUKF8LA1B0HM80GrHG1Ru/uKpaSvr6Zo9uimE6EEDgyglYTZo00fLly9WsWTM1adLkrBfrM8bIsiw5jlNgRQIIXjN3uRq4zNGBk9LzDW0NamCrOFdhBxDgcgLWd999p6uuuirnewDITztTjf7fMkez9xjdHG1pwS0exYUTrAAEh5yA1bZtW0lSVlaWSpUqpZiYGFWoUMFvhQEIThmO0RvrXI1Y46pscWlaB4+6x7LFDYDgcsYiB9u2dd1112ndunX+qAdAEJv/m6trpmXphVWuBtSztbG3Vz2q2YQrAEHnjE8R2rat6tWr6+jRo/6oB0AQ2nci+7ILE7cbtapoaWoHj66OJFQBCF55fkzn2Wef1YgRI7Rv376CrgdAEMlyjd5a76jOZ1ma+5vR+LYe/XAb4QpA8MvzOlhTpkzRgQMHVL16dTVo0EAVKlTI1cK3LEslbtc4AAAgAElEQVQzZ84ssCIBBJbtqUaTt7v6eJurzUelh+vaeqmJrcjiBCsARUOeASstLU116tTJuX3s2LECKwhAYEo4ZvTZDleTdxj9dMgozCt1rWppQltbzSpwTSsARUueAWvhwoUFXAaAQHTghNHUna4mbTdafMAo1CN1jrH0VH2PbqliqWQxOlYAiqYzAlZ6erqaNWum1157TTfddJM/agJQiCWfkqZvcjVph6sFe41sSTdGW/qonUddq1oKDyFUAcAZAat48eLau3evPB6PP+oBUAilnTKaudto8g5X3ySUUpZxdH2UpXdaedQj1lJZ1lYBQC55ThH26NFDU6dOVYcOHQq6HgCFxMksoy/2GE3a4eqLPUbpjtSioqW/NcjQvVeXUuUwQhUAnE2eAatly5Z69tlntXfvXnXq1OmMTxFK2SEMQHA55Rh9m5gdqmbuNjqWKTUuZ+nvTWz1qW6rSilLSUmZiiRcAcA5WcYY878Hbfvcn/gprJs9p6amKiIiQikpKQoPD/d3ObgASUlJioyM9HcZRVqWa/TdXqNJ2119vsvo6Cmp3hVS3+q2bo+zVTMid5hizAIL4xV4GLPgkGcHa+fOnT57gYEDB2rWrFnavXu3fvnlF1199dV5njdixAiNGzdOknTnnXfq73//+wXdB+DiucZoyX6jSTuMpuxwdShdiguXBtSzdXt1mwuBAsBlyjNgVa1a1Wcv0KtXLw0aNEitWrU66zk//PCDJk6cqHXr1snr9aply5Zq1aqVbrrppnPeB+DCGWO08rDRpO3Zi9V/Oy7FlJTurWWrb3VbjcqJPQEBwEdyAlbp0qUv+B9Xy7KUkpJyQee2adPmvOdMnjxZ9913n0qWLClJeuCBBzRx4kTddNNN57wPwLkZY/RLkjRph6vJ213tSJMqlJD6VLPVN87SdRUt2YQqAPC5nID15JNP+u231z179qht27Y5t2NjYzV16tTz3nc2qampuW6HhoYqNDTUhxUDhduWo9kL1Sdtd7XxqHRFqNSrmqX3q9tqW9mSxyZUAUB+yglYw4cP92MZuacm/nfd/bnuy0tMTEyu24MGDdLgwYMvs0Lkh+TkZH+XEDT2HLc0I7GYpid6te6oR6W8Rp2jsvTCVZlqW9FRyO+fXUk5enmvw5gFFsYr8DBmgSevDyXkuQaroFWpUkW7du3Kub17925VqVLlvPedTUJCQq5PEdLBKtz4tMyl23vcaMrvW9UsP2hUwiPdWsXSC01sdYqxVMIbki+vy5gFFsYr8DBmga9Q7MDau3dvTZgwQcePH1dGRoY+/PBD9e3b97z3nU14eHiuL8IVgsnhdKN3Nzq6fk6Woj/N0tM/uqpQQvr0eo8O3u3VZx286lHNVgkv04AA4C/53sF67LHHNHPmTO3fv18dOnRQqVKltG3bNnXu3Fl/+9vf1KRJE7Vr1059+vRR/fr1JUl9+/bVzTffLEnnvA8oKlJOGc3YlX2tqrm/ZU+Tt4+yNLaNR91iLV0RSpgCgMIkzwuNBiouNBp4uKDe2R3PNJq9JztUfZVglOlKbSpbur26pZ7VbFUo4Z9QxZgFFsYr8DBmwaFQrMECkC09y+jrxOxQNXuP0Yks6doKll5pZqt3dVtXlqRTBQCBgIAF+FmmazTvN6PJ211N32WUmildEykNbZh9VfVq4YQqAAg0BCzADxzX6If92VdVn7bT1ZEMqXaE9Hj97FBV9wpCFQAEMgIWUECMyb6UwqTtRp/tcLX/pBRbSnqwjq2+cbYaRLJVDQAECwIWkI+MMVpzRJq83dXkHa52H5OiwqS+cdlb1TQrbxGqACAIEbCAfLAhOXuh+qTtrramSuWKS71/3/+vVSX2/wOAYEfAAnxke2r2QvVJO1z9kiRFhEg9Yi293dLWDVGWvOz/BwBFBgELuAwJx7LXU03eYfTTIaOSXqlLVUsjmti6KdpSqIdQBQBFEQELuEgHThhN/X3/v8UHjEI90i0xlp5u4NEtVSyFsUUNABR5BCzgAiSlG03fZTRph6sFe41sSTdGW/qonUddq1oKDyFUAQD+DwELOIvjmb+Hqu2uvv3NyDHS9ZUtvdvKo+6xlsoWJ1QBAPJGwALysCHZqPvcLG1JkVpWtPRmc1u9qtmqFEaoAgCcHwEL+B9Td7i673tH1UpLG3p5uao6AOCi2f4uACgsHNdoyApHvec7urWKpWVdCVcAgEtDBwuQdDjd6I4FjhbsNXr9WltP1Le5wjoA4JIRsFDkrT5s1GNulo5nSXM7eXTDlTR2AQCXh3cSFGkTtrhqOStL5YtbWtXdS7gCAPgE7yYokk45RgOWOLrve0d3xlladJtHVUoxJQgA8A2mCFHk7Dth1HueoxWHjN5pZeuhOqy3AgD4FgELRcqS/a56zXNkW9IPt3rUvCJNXACA7/HugiLBGKMxGxy1m+OoZkT2eivCFQAgv9DBQtA7mWX06BJH47cYDaxn6/XmtorZTAkCAPIPAQtBbXeaUY95WdqYLH3czqN+NelaAQDyHwELQWveb676zndUupi0tKtX8WXpWgEACga/ziPoGGP06s+ObvrKUeNy2eutCFcAgIJEBwtBJe2U0QM/OJq60+jZeFt/a2zLw3orAEABI2AhaGw5atR9bpYSjkufd/CoezUatAAA/+AdCEFh1m5XTWdkyZW0opuXcAUA8CvehRDQXGP0wipHXb911P5KSz929apOGaYEAQD+xRQhAlZyhlG/7xx9lWA0sqmtwdfYstnyBgBQCBCwEJB+Scpeb5WUIX11s0c3xdCMBQAUHrwrIeBM2u6q+cwslfJKq7p5CVcAgEKHdyYEjCzX6Mnlju5Y4Kh7rKWlXb2qFs6UIACg8GGKEAHh4Emj2+c7Wrzf6K3rbA2oZ8tivRUAoJAiYKHQW3HQVc95jjJdaf4tHrWpTOMVAFC48U6FQm3sJletZzuKLpm95Q3hCgAQCOhgoVDKcIwGLnX13iZXj9S19c/rbIV6mBIEAAQGAhYKncRjRr3mO1p7xGhsG48eqE3XCgAQWAhYKFS+3+eqz3xHoba06DaPmpYnXAEAAg/vXigUjDEavd5R+y8c1StjaWV3L+EKABCw6GDB705kGT34g6NPtxs91cDWy01teW3WWwEAAhcBC36165il+7/L0rZUadINHt0eR9cKABD4CFjwm68TXN2xoKTKlpB+7OrV1ZF0rQAAwYF2AQqca4xeWuOo89eOmpV1tLIb4QoAEFzoYKFApZ4yumeho5m7jV5oZGtA7EmVCS3h77IAAPApAhYKzMZko+5zs7TvhDT7Ro9urWorKcnfVQEA4HtMEaJAfL7TVbOZWfLa0sruXt1alT96AIDgxbsc8pXjGj2zwlHPeY46x1ha3tWrmhGstwIABDemCJFvjqQb3bHA0fy9Rq9da+vJ+rYsi3AFAAh+BCzkizWHjXrMzVJapvRtJ4/aX0mzFABQdPCuB5/7eKurFrOyVLa4pVXdvYQrAECRwzsffCbTNfrLEkf3LHR0R5ylxbd5VLU0U4IAgKKHKUL4xP4TRr3nOfrxkNGYlrYeqct6KwBA0UXAwmVbdsBVz3mOJGnhrR61qEhjFABQtPFOiEtmjNF/NjhqO8dRXGlLq7t7CVcAAIgOFi5RepbRo0scjdti9Jd6tl6/1laIhylBAAAkAhYuwZ5jRj3mOvo12eijdh7dXZOuFQAAf0TAwkWZ/5urvgsclfJKS7t41bAcXSsAAP4XrQdcEGOMXvvZ0Y1fOWpU1tLK7oQrAADOhg4WzutYplH/Hxx9tsNoyDW2RjSx5bEJVwAAnA0BC+e0NcWo+9ws7T4mTe3gUc9qND0BADgfAhbOas5uV3d956hymLSiq1d1r6BrBQDAhaAdgTO4xmj4Kke3fevo+ihLK7oRrgAAuBh0sJDL0Qyjft85+jLBaEQTW8/E27LZ8gYAgItCwEKOX5Ky11slZUhf3uzRzTE0OAEAuBS8g0KS9N+trprPzFIpr7Sym5dwBQDAZaCDVcQdzzT6y9LsLW/uqWnpP608CvMyJQgAwOUgYBVhvyYZ9ZmfpV3HpPFtPbq3Fl0rAAB8gXfUIsgYo7GbXDWdkSXbyp4SJFwBAOA7dLCKmLRTRo8sdvTpdqMH61gafZ1HJZgSBADApwhYRcjaI0Z95mVp30np0+s9uqMGXSsAAPIDAasIMMboPxtdPbHc1VVlpNU3e1Uzgq4VAAD5hYAV5I5mGD24yNHUnUYDrrL12rW2ijMlCABAviJgBbGfDrm6fb6jpAxpWgePerBRMwAABYJ33CBkjNE/f3HUcpaj8sUtrenuJVwBAFCA6GAFmaR0o/t/cDRrt9GT9W2NbGorxMOUIAAABYmAFUSWHnDVd76j41nSrBs9uq0qXSsAAPyBd+Ag4BqjV9Y6ajPbUZVSltb28BKuAADwIzpYAe7QSaN7Fjr6OtHomXhbf2tsy2szJQgAgD8RsALY9/tc3bnAUaYrfX2zRzfF0LUCAKAw4B05ADmu0d9WO7rhC0e1I7KnBAlXAAAUHvn+rrx161a1aNFCtWrVUrNmzbRhw4Yzzhk1apTi4+NzvsLDw/XEE09IkhYuXKiwsLBc9588eTK/yy609p8wuvErR8NXuRrW0Nbczh5FlWRKEACAwiTfpwgffvhhPfTQQ7rvvvs0depU9e/fX8uWLct1zpAhQzRkyBBJ0qlTpxQVFaW77ror5/6rrrpKK1euzO9SC725ia76LXRkS5p/i0fXR9G1AgCgMMrXd+iDBw9q9erV6tevnySpZ8+e2rlzp3bt2nXWx8yYMUPR0dFq3LhxfpYWULJco+d/cnTTV47iIy393NNLuAIAoBDL13fphIQERUVFyevNbpRZlqUqVapoz549Z33M2LFj1b9//1zHNm/erEaNGqlp06YaM2bMeV83NTU111dGRsbl/SB+lHjM6IYvHI362dXIpra+6uRRhRJMCQIAUJjl+xShZeUOA8aYs56bkJCgxYsXa+LEiTnHGjVqpMTEREVERCgxMVGdO3dWuXLl1KdPn7M+T0xMTK7bgwYN0uDBgy/xJ/Cfb/d59NjK4irukWa1SVfzco6OJvu7Kt9KTg6yH6gIYMwCC+MVeBizwBMZGXnGsXwNWDExMUpMTFRWVpa8Xq+MMUpISFCVKlXyPH/cuHHq0qVLrkLDw8Nzvo+OjtYdd9yhRYsWnTNgJSQk5HpcaGioQkNDffATFYxM1+jZn1y9vs7VrVUsjW/rUdnigVP/xcrrDyYKN8YssDBegYcxC3z5OkVYoUIFNWzYUP/9738lSdOmTVNsbKxiY2PPONcYo/Hjx58xPbhv3z65ritJSktL05w5c9SwYcNzvm54eHiur0AKV7vSjFrPdvTPX1y9ca2tWTd6VLY4U4IAAASSfF8p/e677+rdd99VrVq1NGrUKI0dO1aS1Llz51yfDFywYIGMMWrfvn2ux0+bNk3169fXNddco+bNm6tjx466//7787tsv5ixy1XDz7N04ITRki4ePdHAc8YUKwAAKPwsc65FUQEmNTVVERERSklJyTVFWNhlOEaDfnT11q+uesRaGtvGozKhRSNYJSUl0QoPMIxZYGG8Ag9jFhzYKsfPtqUY3b4gS+uTpLdb2Hr0KpuuFQAAAY6A5UefbXf1p0WOKpaQlnf1qmE5ghUAAMGAgOUHJ7OMHl/m6t1NrvrGWXq3lUfhIYQrAACCBQGrgG06atRnfpa2pkjvt/aof22LKUEAAIIMAasAfbzV1Z8XO4opJa3o5lX9SIIVAADBiIBVAI5nGg1Y6mj8FqN7a1r6d0uPShYjXAEAEKwIWPlsfVL2lODuY9L4th7dW4tNmgEACHYErHxijNHYzUZ/WeqoZoS0qrtXdcrQtQIAoCggYOWDtFNGjyx29Ol2o4fq2PrndbZKeAlXAAAUFQQsH1tzOHtKcP9JaeINHvWNY0oQAICihnd/HzHGaMwGR81nZql0MWl1dy/hCgCAIooOlg8czTB6cJGjqTuN/lLP1mvX2gr1MCUIAEBRRcC6TN/vc3X/946SMqRpHTzqUY2uFQAARR1p4BIdyzQasMRRuzmOrgyztKa7l3AFAAAk0cG6JAt+c9X/B0cH06XR19kaUM+WzXY3AADgdwSsi5B6ymjQj9mbNLerbGneLR7FhROsAABAbgSsC/Rtoqs//ZC91urfLW09UpeuFQAAyBsB6zxSThk9udzR2M1G7aMsfdDGo9jSBCsAAHB2BKxz+HKPq4cWO0o9Jb3byqMH61iy6FoBAIDzIGDlITnD6PFljiZsNbop2tJ7rT2qUopgBQAALgwB63/M2u3qkcWOTmRJY9t4dH8tulYAAODiELB+dyTd6P8tc/TJNqNbYiy929qjK0sSrAAAwMUjYEn6fKerR5c4ynCkCW09ursmXSsAAHDpinTAOnTSaMBSR5/tMOpS1dI7rTyqHEawAgAAl6dIBixjjKbsMHpsqSPXSJ9c79EdcXStAACAbxS5gHXghNGjSxx9vsuoR6ylMS09qkjXCgAA+FCRCVjGGE3cbvSXpY5sS5p8g0e9q9O1AgAAvlckAta+E0aPLHY0a7dRn+qW3m7hUfkSBCsAAJA/gjpgGWP08dbsyy+EeKRpHTzqUc32d1kAACDIBW3ASjtl1HeBoy8TjO6Ms/RWC4/KFqdrBQAA8l/QBqytqVLicaOZN3rUpSpdKwAAUHCCNmA1Kmfp557F/F0GAAAogmjtAAAA+BgBCwAAwMcIWAAAAD5GwAIAAPAxAhYAAICPEbAAAAB8jIAFAADgYwQsAAAAHyNgAQAA+BgBCwAAwMcIWAAAAD5GwAIAAPCxoApYGRkZuf6Lwi0jI0OvvPIK4xVAGLPAwngFHsYs8GRkZGj48OFnjJlljDF+qsnnEhMTFRMTo4SEBEVHR/u7HJxHamqqIiIilJKSovDwcH+XgwvAmAUWxivwMGaB52xjFlQdLAAAgMKAgAUAAOBjXn8X4EunZzvT0tKUmprq52pwPqfHiLEKHIxZYGG8Ag9jFnhOj9X/rrgKqjVYO3bsUFxcnL/LAAAARczBgwdVvnz5nNtBFbBc19XevXtVunRpWZbl73IAAEAR8b/ZI6gCFgAAQGHAIncAAAAfI2ABAAD4WFAErPT0dHXr1k21atVSfHy8br75Zu3atcvfZeE8brzxRjVo0EDx8fFq3bq11q5d6++ScAFefPFFWZal9evX+7sUnEdsbKzq1Kmj+Ph4xcfHa/Lkyf4uCeeQkZGhAQMGqGbNmqpXr5769evn75JwDkePHs35uxUfH69atWrJ6/UqKSlJUhBdpuGhhx5Sp06dZFmW3n77bT300EP69ttv/V0WzuGzzz5TmTJlJEkzZszQAw88oNWrV/u5KpzL6tWrtXz5clWpUsXfpeACTZ06VVdffbW/y8AFGDJkiGzb1pYtW2RZlvbt2+fvknAOZcqUydUYeP311/X9998rMjJSUpB0sIoXL67OnTvnrN5v3ry5duzY4eeqcD6nw5UkpaSkyLaD4o9j0MrIyNBjjz2mMWPG8CldwMeOHz+ucePGaeTIkTl/vypXruznqnAxxo0bp/79++fcDsp3tLfeeku33Xabv8vABbjnnnsUExOj559/XhMmTPB3OTiHYcOGqV+/fqpWrZq/S8FFuOuuu1S/fn396U9/0qFDh/xdDs5i+/btKlu2rEaMGKEmTZqodevWmj9/vr/LwgVatmyZjhw5oltvvTXnWNAFrJEjR2rr1q166aWX/F0KLsBHH32khIQEjRgxQk8//bS/y8FZLFu2TD/99JMeffRRf5eCi/DDDz/o559/1urVq1W2bFnde++9/i4JZ5GZmakdO3boqquu0sqVK/X222+rb9++hOIA8eGHH+qee+6R1/t/K6+C6jpYr7/+uiZNmqR58+blmn5CYChRooQSExNVtmxZf5eC/zFq1Ci99dZbCgkJkSQlJiaqYsWK+uCDD9SpUyc/V4cLsW/fPtWqVUtpaWn+LgV5OHz4sCpWrKhTp07J4/FIkpo1a6ZXX31V7dq1829xOKfjx4+rcuXKWrFiherUqZNzPGg6WG+++aYmTpyouXPnEq4CQGpqqvbu3Ztze/r06SpbtmzO4kAULkOGDNHevXu1a9cu7dq1S9HR0frmm28IV4XY8ePHdfTo0ZzbEydOVMOGDf1YEc6lXLlyat++vb755htJ0u7du7Vz507Vrl3bz5XhfKZMmaIGDRrkCldSkHyKMDExUU8++aSqV6+u66+/XpIUGhqqH3/80c+V4WxSUlLUs2dPnTx5UrZtq3z58pozZw6LpwEfOXDggHr27CnHcWSMUfXq1fXRRx/5uyycwzvvvKMHHnhAgwcPlsfj0XvvvcdC9wAwduzYXIvbTwuqKUIAAIDCIGimCAEAAAoLAhYAAICPEbAAAAB8jIAFAADgYwQsAAAAHyNgAQAA+BgBC4BPTZgwQZZlaevWrbmOn94k+rnnnst1/NixY/J6vfr73/9+wa+RlJSk4cOHa9OmTT6p+VzmzZsny7K0du3afH+tC9WqVSt169bN32UAOAcCFgCfatWqlSRpyZIluY4vXbpUYWFhZxxfvny5HMdRy5YtL/g1kpKS9OKLLxZIwAKAS0HAAuBTcXFxqlSp0hlBasmSJbrvvvu0YsUKZWZm5jru9Xp17bXXFnSpOYwxysjI8NvrAwg+BCwAPteiRYtcAev0PoYDBw6U4zhas2ZNzn1LlixRw4YNVbJkSUnShg0bdPvttysmJkZhYWGqV6+e/vnPf8p1XUnStm3bVLNmTUlS9+7dZVmWLMtSYmKiJCk9PV1DhgxRlSpVFBoaqquuukqTJk3KVV+/fv0UHx+vOXPmqEGDBgoNDdWXX355WT/zhx9+qPr16ys0NFRXXnmlhg4dKsdxcmq2LEszZ84843HXXHON7rzzzpzbCQkJuvPOO1W2bFmVKFFC7dq1y/X/C0BgIGAB8LlWrVpp06ZNSkpKkpQdoqKiolS7dm01atQoJ3y5rqvly5fnmh5MTExU3bp1NWbMGH355Zfq37+/hg0bplGjRkmSYmJiNGXKFEnSK6+8omXLlmnZsmWqUKGCjDHq2bOnPvjgAw0aNEhz5sxRx44ddeedd2ru3Lm5akxISNATTzyhp556Sl9//bUaNGhwyT/vq6++qocffli33HKL5syZo6efflr/+Mc/9MILL0iSatSooaZNm2rixIm5Hrdx40atW7dOd9xxhyTpyJEjatmypdavX69///vfmjZtmkJDQ3X99dfr8OHDl1wfAD8wAOBjP/74o5FkZs+ebYwx5q9//avp1auXMcaYJ554wvTs2dMYY8zatWuNJDN16tQ8n8d1XZOZmWlefPFFExMTk3N869atRpKZPn16rvO//fZbI8nMnz8/1/Hu3bub6667Luf2XXfdZSSZVatWnfdnmTt3rpFk1qxZk+f9ycnJJiwszAwdOjTX8dGjR5uwsDCTnJxsjDHmzTffNGFhYebYsWM55wwdOtRcccUVJiMjwxhjzLPPPmuuuOIKc+jQoZxzTp48aaKioswzzzyTc6xly5ama9eu560dgP/QwQLgcw0bNlRYWJgWL14sKbuDdbpL9cfpw9P//WMH6+TJkxo6dKji4uIUGhqqYsWK6YUXXlBCQoLS09PP+brffvutypcvrzZt2igrKyvnq3379lq9enXONKMkVapUSY0aNbrsn3XJkiU6ceKEevfunes1b7jhBp04cUK//vqrJOn2229Xenq6Zs2alfPYyZMnq1evXgoJCcmpv3379ipTpkzO83i9XrVs2VI//fTTZdcKoOB4/V0AgOBTrFgxNWvWLCd8rF27Vm+//bak7IC1f/9+bd++XUuWLMlZFH/aU089pfHjx+uFF15Qo0aNVKZMGU2bNk2jRo1Senq6ihcvftbXPXz4sA4dOqRixYrlef/BgwdzXqtChQo++VlPT92dbYoxISFBkhQVFaW2bdtq4sSJuuOOO7Rq1Spt2bJF77zzTq7nWrlypaZOnXrG89SuXdsn9QIoGAQsAPmiZcuWeuONN7R48WJ5vV41bNhQklS5cmXFxsZqyZIlWrJkidq1a5frcVOmTNGjjz6qQYMG5RzLa3F4XiIjI1WpUiXNnj07z/vLli2b871lWRf5E539NaXsGqOios64v3r16jnf33HHHRowYICSk5M1adKknND1x+eqV6+ehg8ffsbznCtYAih8CFgA8kXLli310ksv/f927tgltSiOA/j3XTBNRMgIIZKQGiQRIXPRoQhFJ6eioSlay0GMaMn+g0CColkLLUEcmtrdnByLqLCG5ogg+77J+7iveDzCXo/4fuAu5/zuPedsP+45v4NisYhoNGr5qxSLxXBycoLr62vz3qyep6cnc8sMALrdLiqViiWm1//7lmEikcDu7i4GBwcRDAb7vaR3xeNxOBwOdDodZDKZP8YuLCxgbW0NtVoNlUoFS0tLMIxfJzUSiQSq1SqmpqbgdDo/e+oi8omUYInIp4jFYjAMA2dnZ9jc3HzTt76+DgBvLhhNJpM4ODhAIBCAx+PB3t4eXl5eLDGjo6Nwu90ol8vw+Xyw2+0Ih8NIp9NIp9NIpVLY2NhAKBTC4+Mj2u02rq6ucHh4+OH1nJ+f4+LiwtLm9/sRiUSws7ODXC6Hm5sbzM7OwjAMXF5eol6vo9FowG63AwCGhoaQSqVQKBRwd3dnVg/25PN5HB8fY25uDtlsFj6fDw8PD2g2mxgfH0c2m/3w/EXkH/vqU/Yi8n2FQiECYKPRsLS3Wi0C4PDwMF9fXy199/f3zGQydLlc9Hq93Nra4v7+PgGYFXkkeXp6ykAgwIGBAQLg7e0tSfL5+ZmFQoGTk5O02WwcGRnh/Pw8S6WS+e7y8jLD4fBfraFXRfjes7q6asaVSiXOzMzQ4XDQ7XZzenqa29vb7BsdW4sAAABcSURBVHa7lu8dHR0RACcmJt4dr9PpcGVlhV6vlzabjWNjY1xcXGSz2TRjVEUo8v/7QZJflNuJiIiIfEu6pkFERESkz5RgiYiIiPSZEiwRERGRPlOCJSIiItJnPwF0RL8e3cCP8AAAAABJRU5ErkJggg==\" />"
      ]
     },
     "execution_count": 10,
     "metadata": {},
     "output_type": "execute_result"
    }
   ],
   "source": [
    "plot(WM.s_vec, x_opt, xlabel=\"Water Level\", ylabel=\"Irrigation\", xlim=(2, 7), ylim=(0.6, 1.6))"
   ]
  },
  {
   "cell_type": "markdown",
   "metadata": {},
   "source": [
    "### Chebychev Collocation"
   ]
  },
  {
   "cell_type": "code",
   "execution_count": 11,
   "metadata": {},
   "outputs": [
    {
     "data": {
      "text/plain": [
       "1 dimensional Basis on the hypercube formed by (2.0,) × (7.0,).\n",
       "Basis families are Cheb\n"
      ]
     },
     "execution_count": 11,
     "metadata": {},
     "output_type": "execute_result"
    }
   ],
   "source": [
    "n = 10\n",
    "s_min = 2\n",
    "s_max = 7\n",
    "basis = Basis(ChebParams(n, s_min, s_max))"
   ]
  },
  {
   "cell_type": "code",
   "execution_count": 12,
   "metadata": {},
   "outputs": [
    {
     "data": {
      "text/plain": [
       "10×10 Array{Float64,2}:\n",
       " 1.0  -0.987688   0.951057     -0.891007  …  -0.45399    0.309017  -0.156434\n",
       " 1.0  -0.891007   0.587785     -0.156434      0.987688  -0.809017   0.45399 \n",
       " 1.0  -0.707107   2.22045e-16   0.707107     -0.707107   1.0       -0.707107\n",
       " 1.0  -0.45399   -0.587785      0.987688     -0.156434  -0.809017   0.891007\n",
       " 1.0  -0.156434  -0.951057      0.45399       0.891007   0.309017  -0.987688\n",
       " 1.0   0.156434  -0.951057     -0.45399   …  -0.891007   0.309017   0.987688\n",
       " 1.0   0.45399   -0.587785     -0.987688      0.156434  -0.809017  -0.891007\n",
       " 1.0   0.707107   2.22045e-16  -0.707107      0.707107   1.0        0.707107\n",
       " 1.0   0.891007   0.587785      0.156434     -0.987688  -0.809017  -0.45399 \n",
       " 1.0   0.987688   0.951057      0.891007      0.45399    0.309017   0.156434"
      ]
     },
     "execution_count": 12,
     "metadata": {},
     "output_type": "execute_result"
    }
   ],
   "source": [
    "S, _ = nodes(basis)\n",
    "Phi = BasisMatrix(basis, Expanded(), S).vals[1]"
   ]
  },
  {
   "cell_type": "code",
   "execution_count": 13,
   "metadata": {},
   "outputs": [
    {
     "data": {
      "text/plain": [
       "update_Bellman2 (generic function with 1 method)"
      ]
     },
     "execution_count": 13,
     "metadata": {},
     "output_type": "execute_result"
    }
   ],
   "source": [
    "function update_Bellman2(WM::WaterManagement, C::Vector)\n",
    "    a1, a2, b1, b2, sigma, delta = WM.a1, WM.a2, WM.b1, WM.b2, WM.sigma, WM.delta\n",
    "    V_new = similar(C)\n",
    "    x_opt = similar(C)\n",
    "    \n",
    "    for (s_idx, s) in enumerate(S)\n",
    "        objective(x) = -(a1/(1+b1) * x^(1+b1) + a2/(1+b2) * (s-x)^(1+b2)\n",
    "                       + delta * dot(weight, funeval(C, basis, s - x + epsilon)))\n",
    "        opt = optimize(objective, 0, s)\n",
    "        V_new[s_idx] = - opt.minimum\n",
    "        x_opt[s_idx] = opt.minimizer\n",
    "    end\n",
    "    C_new = Phi \\ V_new\n",
    "    return C_new, x_opt\n",
    "    \n",
    "end"
   ]
  },
  {
   "cell_type": "code",
   "execution_count": 14,
   "metadata": {},
   "outputs": [],
   "source": [
    "C = zeros(n);"
   ]
  },
  {
   "cell_type": "code",
   "execution_count": 15,
   "metadata": {},
   "outputs": [],
   "source": [
    "C_computed = similar(C)\n",
    "x_opt = similar(C)\n",
    "tol = sqrt(eps())\n",
    "max_iter = 500\n",
    "C_error = 1.0\n",
    "i = 1\n",
    "\n",
    "while C_error > tol && i <= max_iter\n",
    "    C_computed, x_opt = update_Bellman2(WM, C)\n",
    "    C_error = maximum(abs, C_computed - C) \n",
    "    copy!(C, C_computed)\n",
    "    i += 1\n",
    "end"
   ]
  },
  {
   "cell_type": "code",
   "execution_count": 16,
   "metadata": {},
   "outputs": [
    {
     "data": {
      "text/plain": [
       "(175, 1.4292689698436334e-8, [0.641035, 0.702795, 0.809586, 0.938495, 1.07091, 1.19403, 1.30031, 1.38446, 1.44255, 1.47223])"
      ]
     },
     "execution_count": 16,
     "metadata": {},
     "output_type": "execute_result"
    }
   ],
   "source": [
    "i, C_error, x_opt"
   ]
  },
  {
   "cell_type": "code",
   "execution_count": 17,
   "metadata": {},
   "outputs": [],
   "source": [
    "ss = linspace(s_min, s_max, 50)\n",
    "x_opt = Array{Float64}(length(ss))\n",
    "for (s_idx, s) in enumerate(ss)\n",
    "    objective(x) = -(a1/(1+b1) * x^(1+b1) + a2/(1+b2) * (s-x)^(1+b2)\n",
    "                   + delta * dot(weight ,funeval(C, basis, s - x + epsilon)))\n",
    "    opt = optimize(objective, 0, s)\n",
    "    x_opt[s_idx] = opt.minimizer\n",
    "end"
   ]
  },
  {
   "cell_type": "code",
   "execution_count": 18,
   "metadata": {},
   "outputs": [],
   "source": [
    "B1 = evalbase(basis.params[1], ss, 1)\n",
    "cheb_shadow_prices = B1 * C;"
   ]
  },
  {
   "cell_type": "markdown",
   "metadata": {},
   "source": [
    "### Linear Quadratic approximation"
   ]
  },
  {
   "cell_type": "code",
   "execution_count": 19,
   "metadata": {},
   "outputs": [
    {
     "data": {
      "text/plain": [
       "approx_lq (generic function with 1 method)"
      ]
     },
     "execution_count": 19,
     "metadata": {},
     "output_type": "execute_result"
    }
   ],
   "source": [
    "function approx_lq(s_star, x_star, f_star, Df_star, DDf_star, g_star, Dg_star, discount)\n",
    "    n = 2  # Dim of state variable (1, s)\n",
    "    k = 1  # Dim of control variable x\n",
    "    sx_star = [s_star, x_star]\n",
    "    \n",
    "    # (1, s)' R (1, s) + 2 x N (1, s) + x Q x\n",
    "    Q = Array{Float64}(k, k)\n",
    "    R = Array{Float64}(n, n)\n",
    "    N = Array{Float64}(k, n)\n",
    "    R[1, 1] = -(f_star - Df_star' * sx_star + (sx_star' * DDf_star * sx_star) / 2)\n",
    "    R[2, 2], N[1, 2], N[1, 2], Q[1, 1] = -DDf_star / 2\n",
    "    R[2, 1], N[1, 1] = -(Df_star - DDf_star * sx_star) / 2\n",
    "    R[1, 2] = R[2, 1]\n",
    "    \n",
    "    # A (1, s) + B x + C w\n",
    "    A = Array{Float64}(n, n)\n",
    "    B = Array{Float64}(n, k)\n",
    "    C = zeros(n, 1)\n",
    "    A[1, 1], A[1, 2], B[1, 1] = 1, 0, 0\n",
    "    A[2, 1] = g_star - Dg_star' * sx_star\n",
    "    A[2, 2], B[2, 1] = Dg_star\n",
    "    \n",
    "    lq = LQ(Q, R, A, B, C, N, bet=discount)\n",
    "    return lq\n",
    "end"
   ]
  },
  {
   "cell_type": "code",
   "execution_count": 20,
   "metadata": {},
   "outputs": [
    {
     "data": {
      "text/html": [
       "0.9801986733067553"
      ],
      "text/plain": [
       "0.9801986733067553"
      ]
     },
     "execution_count": 20,
     "metadata": {},
     "output_type": "execute_result"
    }
   ],
   "source": [
    "estar = exp(-sigma^2/2)"
   ]
  },
  {
   "cell_type": "code",
   "execution_count": 21,
   "metadata": {
    "collapsed": true
   },
   "outputs": [],
   "source": [
    "f(s, x) = a1 * x^(1+b1)/(1 + b1) + a2 * (s - x)^(1 + b2)/(1 + b2)\n",
    "f_s(s, x) = a2 * (s - x)^b2\n",
    "f_x(s, x) = a1 * x^b1 - a2 * (s - x)^b2 \n",
    "f_ss(s, x) = a2 * b2 * (s - x)^(b2 - 1)\n",
    "f_sx(s, x) = -a2 * b2 * (s - x)^(b2 - 1)\n",
    "f_xx(s, x) = a1 * b1 * x^(b1 - 1) + a2 * b2 * (s - x)^(b2 - 1)\n",
    "\n",
    "g(s, x) = s - x + estar\n",
    "g_s(s, x) = 1\n",
    "g_x(s, x) = -1;"
   ]
  },
  {
   "cell_type": "code",
   "execution_count": 22,
   "metadata": {},
   "outputs": [
    {
     "data": {
      "text/plain": [
       "(3.7144176165949068, 1)"
      ]
     },
     "execution_count": 22,
     "metadata": {},
     "output_type": "execute_result"
    }
   ],
   "source": [
    "x_star = 1\n",
    "s_star = 1 + (a1 * (1 - delta)/a2)^(1/b2)\n",
    "s_star, x_star"
   ]
  },
  {
   "cell_type": "code",
   "execution_count": 23,
   "metadata": {},
   "outputs": [
    {
     "data": {
      "text/html": [
       "0.8080012953777312"
      ],
      "text/plain": [
       "0.8080012953777312"
      ]
     },
     "execution_count": 23,
     "metadata": {},
     "output_type": "execute_result"
    }
   ],
   "source": [
    "f_x(s_star, x_star) + delta * f_s(g(s_star, x_star), x_star) * g_x(s_star, x_star)"
   ]
  },
  {
   "cell_type": "code",
   "execution_count": 24,
   "metadata": {
    "collapsed": true
   },
   "outputs": [],
   "source": [
    "f_star = f(s_star, x_star)\n",
    "Df_star = [f_s(s_star, x_star), f_x(s_star, x_star)]\n",
    "DDf_star = [f_ss(s_star, x_star) f_sx(s_star, x_star);\n",
    "            f_sx(s_star, x_star) f_xx(s_star, x_star)]\n",
    "g_star = g(s_star, x_star)\n",
    "Dg_star = [g_s(s_star, x_star), g_x(s_star, x_star)];"
   ]
  },
  {
   "cell_type": "code",
   "execution_count": 25,
   "metadata": {},
   "outputs": [
    {
     "data": {
      "text/plain": [
       "QuantEcon.LQ([1.05526], [3.81433 -0.2; -0.2 0.0552605], [1.0 0.0; 0.980199 1.0], [0.0; -1.0], [0.0; 0.0], [-1.3 -0.0552605], 0.9, nothing, [NaN NaN; NaN NaN], [NaN NaN; NaN NaN], 0.0, [0.0 0.0])"
      ]
     },
     "execution_count": 25,
     "metadata": {},
     "output_type": "execute_result"
    }
   ],
   "source": [
    "lq = approx_lq(s_star, x_star, f_star, Df_star, DDf_star, g_star, Dg_star, delta)"
   ]
  },
  {
   "cell_type": "code",
   "execution_count": 26,
   "metadata": {},
   "outputs": [
    {
     "data": {
      "text/plain": [
       "([17.757 -1.16418; -1.16418 0.176119], [-0.335817 -0.176119], 0.0)"
      ]
     },
     "execution_count": 26,
     "metadata": {},
     "output_type": "execute_result"
    }
   ],
   "source": [
    "P, F, d = stationary_values(lq)"
   ]
  },
  {
   "cell_type": "code",
   "execution_count": 27,
   "metadata": {},
   "outputs": [
    {
     "data": {
      "text/plain": [
       "V_LQ (generic function with 1 method)"
      ]
     },
     "execution_count": 27,
     "metadata": {},
     "output_type": "execute_result"
    }
   ],
   "source": [
    "V_LQ(s) = [1, s]' * P * [1, s] + d"
   ]
  },
  {
   "cell_type": "code",
   "execution_count": 28,
   "metadata": {},
   "outputs": [
    {
     "data": {
      "text/html": [
       "11.538393067945846"
      ],
      "text/plain": [
       "11.538393067945846"
      ]
     },
     "execution_count": 28,
     "metadata": {},
     "output_type": "execute_result"
    }
   ],
   "source": [
    "V_LQ(s_star)"
   ]
  },
  {
   "cell_type": "code",
   "execution_count": 29,
   "metadata": {},
   "outputs": [
    {
     "data": {
      "text/html": [
       "11.357208808297454"
      ],
      "text/plain": [
       "11.357208808297454"
      ]
     },
     "execution_count": 29,
     "metadata": {},
     "output_type": "execute_result"
    }
   ],
   "source": [
    "-f_star / (1 - lq.bet)"
   ]
  },
  {
   "cell_type": "code",
   "execution_count": 30,
   "metadata": {},
   "outputs": [
    {
     "data": {
      "text/plain": [
       "X_LQ (generic function with 1 method)"
      ]
     },
     "execution_count": 30,
     "metadata": {},
     "output_type": "execute_result"
    }
   ],
   "source": [
    "X_LQ(s) = - (F * [1, s])[1]"
   ]
  },
  {
   "cell_type": "code",
   "execution_count": 31,
   "metadata": {},
   "outputs": [
    {
     "data": {
      "text/html": [
       "0.9899968896779613"
      ],
      "text/plain": [
       "0.9899968896779613"
      ]
     },
     "execution_count": 31,
     "metadata": {},
     "output_type": "execute_result"
    }
   ],
   "source": [
    "X_LQ(s_star)"
   ]
  },
  {
   "cell_type": "code",
   "execution_count": 32,
   "metadata": {},
   "outputs": [
    {
     "data": {
      "text/html": [
       "1"
      ],
      "text/plain": [
       "1"
      ]
     },
     "execution_count": 32,
     "metadata": {},
     "output_type": "execute_result"
    }
   ],
   "source": [
    "x_star"
   ]
  },
  {
   "cell_type": "code",
   "execution_count": 33,
   "metadata": {},
   "outputs": [
    {
     "data": {
      "text/html": [
       "<img src=\"data:image/png;base64,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\" />"
      ]
     },
     "execution_count": 33,
     "metadata": {},
     "output_type": "execute_result"
    }
   ],
   "source": [
    "s_min, s_max = 2, 7\n",
    "ys = [x_opt, X_LQ.(ss)]\n",
    "title = \"Optimal Irrigation Policy\"\n",
    "xlabel = \"Water Level\"\n",
    "ylabel = \"Irrigation\"\n",
    "labels = [\"Chebychev\" \"L-Q\"]\n",
    "plot(ss, ys, xlims=(s_min, s_max), ylims=(0.6, 1.6),\n",
    "     title=title, xlabel=xlabel, ylabel=ylabel, label = labels)\n",
    "plot!([s_star], [x_star], m=(7,:star8), label=\"\")"
   ]
  },
  {
   "cell_type": "code",
   "execution_count": 34,
   "metadata": {},
   "outputs": [
    {
     "data": {
      "text/html": [
       "<img src=\"data:image/png;base64,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\" />"
      ]
     },
     "execution_count": 34,
     "metadata": {},
     "output_type": "execute_result"
    }
   ],
   "source": [
    "lq_shadow_price(s) = -2 * (P * [1, s])[2]\n",
    "ys = [cheb_shadow_prices, lq_shadow_price.(ss)]\n",
    "title = \"Shadow Price Function\"\n",
    "ylabel = \"Price\"\n",
    "labels = [\"Chebychev\" \"L-Q\"]\n",
    "plot(ss, ys, xlims=(s_min, s_max), ylims=(-0.5, 2.5),\n",
    "     title=title, xlabel=xlabel, ylabel=ylabel, label=labels)\n",
    "plot!([s_star], [lq_shadow_price(s_star)], m=(7,:star8), label=\"\")"
   ]
  },
  {
   "cell_type": "code",
   "execution_count": 35,
   "metadata": {
    "collapsed": true
   },
   "outputs": [],
   "source": [
    "V_new = Array{Float64}(length(ss))\n",
    "for (s_idx, s) in enumerate(ss)\n",
    "    objective(x) = -(a1/(1+b1) * x^(1+b1) + a2/(1+b2) * (s-x)^(1+b2)\n",
    "                   + delta * dot(weight ,funeval(C, basis, s - x + epsilon)))\n",
    "    opt = optimize(objective, 0, s)\n",
    "    V_new[s_idx] = -opt.minimum\n",
    "end\n",
    "Resid = V_new - funeval(C, basis, ss);"
   ]
  },
  {
   "cell_type": "code",
   "execution_count": 36,
   "metadata": {},
   "outputs": [
    {
     "data": {
      "text/html": [
       "<img src=\"data:image/png;base64,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\" />"
      ]
     },
     "execution_count": 36,
     "metadata": {},
     "output_type": "execute_result"
    }
   ],
   "source": [
    "plot(ss, Resid, yformatter=:scientific)"
   ]
  },
  {
   "cell_type": "code",
   "execution_count": null,
   "metadata": {
    "collapsed": true
   },
   "outputs": [],
   "source": []
  }
 ],
 "metadata": {
  "kernelspec": {
   "display_name": "Julia 0.6.0",
   "language": "julia",
   "name": "julia-0.6"
  },
  "language_info": {
   "file_extension": ".jl",
   "mimetype": "application/julia",
   "name": "julia",
   "version": "0.6.0"
  }
 },
 "nbformat": 4,
 "nbformat_minor": 2
}
