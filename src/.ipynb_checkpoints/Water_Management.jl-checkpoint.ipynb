{
 "cells": [
  {
   "cell_type": "markdown",
   "metadata": {
    "collapsed": true
   },
   "source": [
    "# 9.7.4 Water Management\n",
    "\n",
    "From Miranda and Fackler, Applied Computational Economics and Finance, 2002, Section 9.7.4"
   ]
  },
  {
   "cell_type": "markdown",
   "metadata": {},
   "source": [
    "貯水池の水を灌漑用水とレクリエーションに使うことができる。年初に $s$ 単位の水が貯水池にあって、灌漑に $x$ 単位使われたとき、農家とレクリエーション使用者のその年の利益はそれぞれ $F(x)$ と $U(s-x)$ になる。貯水池の水は冬季にランダムに $\\epsilon$ 単位降る雨によって補充される。貯水池は最大 $M$ 単位の水しか貯められない。"
   ]
  },
  {
   "cell_type": "markdown",
   "metadata": {},
   "source": [
    "このモデルは an infinite horizon ,stochastic model である。\n",
    "\n",
    "The state variable: $s \\in [0, M]$ …年初の貯水池の水量。\n",
    "\n",
    "The action variable: $x \\in [0, s]$ …灌漑に使われる水量。\n",
    "\n",
    "The state transition function: $g(s, x, \\epsilon) = min(s - x + \\epsilon, M)$\n",
    "\n",
    "The reward function: $f(s, x) = F(x) + U(s - x)$\n",
    "\n",
    "年初に $s$ 単位の水がある貯水池の社会的価値がベルマン方程式を満たす。\n",
    "\n",
    "$V(s) = \\max_{0 \\leq x \\leq s}\\{F(x) + U(s - x) + \\delta E_\\epsilon V (min(s - x + \\epsilon, M)\\}$"
   ]
  },
  {
   "cell_type": "markdown",
   "metadata": {
    "collapsed": true
   },
   "source": [
    "$F'(0), U'(0), M$ が十分に大きいと仮定すると、最適解において制約が束縛されないので、水の潜在価格 $\\lambda(s)$ はオイラーの平衡条件を満たす。\n",
    "\n",
    "$F'(x) - U'(s - x) - \\delta E_\\epsilon \\lambda (s - x + \\epsilon) = 0$\n",
    "\n",
    "$\\lambda(s) = U'(s - x) + \\delta E_\\epsilon \\lambda (s - x + \\epsilon)$\n",
    "\n",
    "このことは最適経路の周辺で $F'_t = U'_t + \\delta E_t \\lambda_{t + 1}$ が成立することを示す。"
   ]
  },
  {
   "cell_type": "markdown",
   "metadata": {},
   "source": [
    "確実性等価での安定状態での貯水池の水量 $s^*$ 、灌漑に用いる水量 $x^*$ 、潜在価格 $\\lambda^*$ で方程式を解くと、\n",
    "\n",
    "$x^* = \\bar{\\epsilon}$\n",
    "\n",
    "$F'(x^*) = \\lambda^*$\n",
    "\n",
    "$U'(s^* - x^*) = (1 - \\delta)F'(x^*)$\n",
    "\n",
    "ここで $\\bar{\\epsilon}$ は年間の平均降水量である。この条件は $x^*$ と $\\lambda^*$ は割引因子の影響を受けず、 $s^*$ は割引因子の影響を受けることを示す。"
   ]
  },
  {
   "cell_type": "code",
   "execution_count": 1,
   "metadata": {},
   "outputs": [],
   "source": [
    "using QuantEcon\n",
    "using BasisMatrices\n",
    "using Optim \n",
    "using Plots"
   ]
  },
  {
   "cell_type": "code",
   "execution_count": 2,
   "metadata": {
    "collapsed": true
   },
   "outputs": [],
   "source": [
    "struct WaterManagement\n",
    "    a1::Float64\n",
    "    a2::Float64\n",
    "    b1::Float64\n",
    "    b2::Float64\n",
    "    sigma::Float64\n",
    "    delta::Float64\n",
    "    s_vec::Vector{Float64}\n",
    "end"
   ]
  },
  {
   "cell_type": "code",
   "execution_count": 3,
   "metadata": {},
   "outputs": [
    {
     "data": {
      "text/plain": [
       "([2.03078, 2.27248, 2.73223, 3.36502, 4.10891, 4.89109, 5.63498, 6.26777, 6.72752, 6.96922], Array{Float64,1}[[2.03078, 2.27248, 2.73223, 3.36502, 4.10891, 4.89109, 5.63498, 6.26777, 6.72752, 6.96922]])"
      ]
     },
     "execution_count": 3,
     "metadata": {},
     "output_type": "execute_result"
    }
   ],
   "source": [
    "n = 10\n",
    "smin = 2\n",
    "smax = 7\n",
    "fspace = Basis(ChebParams(n, smin, smax))\n",
    "snodes = nodes(fspace)"
   ]
  },
  {
   "cell_type": "code",
   "execution_count": 4,
   "metadata": {},
   "outputs": [
    {
     "data": {
      "text/plain": [
       "WaterManagement(1.0, 2.0, -2.0, -3.0, 0.2, 0.9, [2.03078, 2.27248, 2.73223, 3.36502, 4.10891, 4.89109, 5.63498, 6.26777, 6.72752, 6.96922])"
      ]
     },
     "execution_count": 4,
     "metadata": {},
     "output_type": "execute_result"
    }
   ],
   "source": [
    "WM =WaterManagement(1, 2, -2, -3, 0.2, 0.9, snodes[1])"
   ]
  },
  {
   "cell_type": "markdown",
   "metadata": {},
   "source": [
    "### 一次線形補間"
   ]
  },
  {
   "cell_type": "code",
   "execution_count": 5,
   "metadata": {},
   "outputs": [
    {
     "data": {
      "text/plain": [
       "(1.0, 2.0, -2.0, -3.0, 0.2, 0.9)"
      ]
     },
     "execution_count": 5,
     "metadata": {},
     "output_type": "execute_result"
    }
   ],
   "source": [
    "a1, a2, b1, b2, sigma, delta = WM.a1, WM.a2, WM.b1, WM.b2, WM.sigma, WM.delta"
   ]
  },
  {
   "cell_type": "code",
   "execution_count": 7,
   "metadata": {},
   "outputs": [
    {
     "data": {
      "text/plain": [
       "([0.693218, 0.980199, 1.38598], [0.166667, 0.666667, 0.166667])"
      ]
     },
     "execution_count": 7,
     "metadata": {},
     "output_type": "execute_result"
    }
   ],
   "source": [
    "nshocks = 3\n",
    "epsilon, weight = qnwlogn(nshocks, - WM.sigma^2/2, WM.sigma^2)"
   ]
  },
  {
   "cell_type": "code",
   "execution_count": 8,
   "metadata": {},
   "outputs": [
    {
     "data": {
      "text/plain": [
       "update_Bellman1 (generic function with 1 method)"
      ]
     },
     "execution_count": 8,
     "metadata": {},
     "output_type": "execute_result"
    }
   ],
   "source": [
    "function update_Bellman1(WM::WaterManagement, V::Vector)\n",
    "    a1, a2, b1, b2, sigma, delta = WM.a1, WM.a2, WM.b1, WM.b2, WM.sigma, WM.delta\n",
    "    V_new = similar(V)\n",
    "    x_opt = similar(V)\n",
    "    V_func = LinInterp(WM.s_vec, V)\n",
    "    \n",
    "    for (s_idx, s) in enumerate(WM.s_vec)\n",
    "        objective(x) = -(a1/(1+b1) * x^(1+b1) + a2/(1+b2) * (s-x)^(1+b2)\n",
    "                       + delta * dot(weight ,V_func.(s-x+epsilon)))\n",
    "        opt = optimize(objective, 1e-10, s)\n",
    "        V_new[s_idx] = - opt.minimum\n",
    "        x_opt[s_idx] = opt.minimizer\n",
    "    end\n",
    "    \n",
    "    return V_new, x_opt\n",
    "    \n",
    "end"
   ]
  },
  {
   "cell_type": "code",
   "execution_count": 9,
   "metadata": {
    "collapsed": true
   },
   "outputs": [],
   "source": [
    "# Initial guess\n",
    "V = zeros(length(WM.s_vec));"
   ]
  },
  {
   "cell_type": "code",
   "execution_count": 10,
   "metadata": {
    "collapsed": true
   },
   "outputs": [],
   "source": [
    "V_computed = similar(V)\n",
    "x_opt = similar(V)\n",
    "resid1 = Vector{Float64}(n)\n",
    "tol = sqrt(eps())\n",
    "max_iter = 500\n",
    "V_error = 1.0\n",
    "i = 1\n",
    "\n",
    "while V_error > tol && i <= max_iter\n",
    "    V_computed, x_opt = update_Bellman1(WM, V)\n",
    "    V_error = maximum(abs, V_computed - V) \n",
    "    for j in 1:length(V_computed)\n",
    "       resid1[j] =  V_computed[j] - V[j]\n",
    "    end\n",
    "    copy!(V, V_computed)\n",
    "    i += 1\n",
    "end"
   ]
  },
  {
   "cell_type": "code",
   "execution_count": 11,
   "metadata": {},
   "outputs": [
    {
     "data": {
      "text/html": [
       "<img src=\"data:image/png;base64,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\" />"
      ]
     },
     "execution_count": 11,
     "metadata": {},
     "output_type": "execute_result"
    }
   ],
   "source": [
    "plot(WM.s_vec, x_opt, xlabel=\"Water Level\", ylabel=\"Irrigation\", xlim=(2, 7), ylim=(0.6, 1.6))"
   ]
  },
  {
   "cell_type": "markdown",
   "metadata": {},
   "source": [
    "### Chebychev Collocation"
   ]
  },
  {
   "cell_type": "code",
   "execution_count": 12,
   "metadata": {},
   "outputs": [
    {
     "data": {
      "text/plain": [
       "1 dimensional Basis on the hypercube formed by (2.0,) × (7.0,).\n",
       "Basis families are Cheb\n"
      ]
     },
     "execution_count": 12,
     "metadata": {},
     "output_type": "execute_result"
    }
   ],
   "source": [
    "n = 10\n",
    "s_min = 2\n",
    "s_max = 7\n",
    "basis = Basis(ChebParams(n, s_min, s_max))"
   ]
  },
  {
   "cell_type": "code",
   "execution_count": 13,
   "metadata": {},
   "outputs": [
    {
     "data": {
      "text/plain": [
       "10×10 Array{Float64,2}:\n",
       " 1.0  -0.987688   0.951057     -0.891007  …  -0.45399    0.309017  -0.156434\n",
       " 1.0  -0.891007   0.587785     -0.156434      0.987688  -0.809017   0.45399 \n",
       " 1.0  -0.707107   2.22045e-16   0.707107     -0.707107   1.0       -0.707107\n",
       " 1.0  -0.45399   -0.587785      0.987688     -0.156434  -0.809017   0.891007\n",
       " 1.0  -0.156434  -0.951057      0.45399       0.891007   0.309017  -0.987688\n",
       " 1.0   0.156434  -0.951057     -0.45399   …  -0.891007   0.309017   0.987688\n",
       " 1.0   0.45399   -0.587785     -0.987688      0.156434  -0.809017  -0.891007\n",
       " 1.0   0.707107   2.22045e-16  -0.707107      0.707107   1.0        0.707107\n",
       " 1.0   0.891007   0.587785      0.156434     -0.987688  -0.809017  -0.45399 \n",
       " 1.0   0.987688   0.951057      0.891007      0.45399    0.309017   0.156434"
      ]
     },
     "execution_count": 13,
     "metadata": {},
     "output_type": "execute_result"
    }
   ],
   "source": [
    "S, _ = nodes(basis)\n",
    "Phi = BasisMatrix(basis, Expanded(), S).vals[1]"
   ]
  },
  {
   "cell_type": "code",
   "execution_count": 14,
   "metadata": {},
   "outputs": [
    {
     "data": {
      "text/plain": [
       "update_Bellman2 (generic function with 1 method)"
      ]
     },
     "execution_count": 14,
     "metadata": {},
     "output_type": "execute_result"
    }
   ],
   "source": [
    "function update_Bellman2(WM::WaterManagement, C::Vector)\n",
    "    a1, a2, b1, b2, sigma, delta = WM.a1, WM.a2, WM.b1, WM.b2, WM.sigma, WM.delta\n",
    "    V_new = similar(C)\n",
    "    x_opt = similar(C)\n",
    "    \n",
    "    for (s_idx, s) in enumerate(S)\n",
    "        objective(x) = -(a1/(1+b1) * x^(1+b1) + a2/(1+b2) * (s-x)^(1+b2)\n",
    "                       + delta * dot(weight, funeval(C, basis, s - x + epsilon)))\n",
    "        opt = optimize(objective, 0, s)\n",
    "        V_new[s_idx] = - opt.minimum\n",
    "        x_opt[s_idx] = opt.minimizer\n",
    "    end\n",
    "    C_new = Phi \\ V_new\n",
    "    return C_new, x_opt\n",
    "    \n",
    "end"
   ]
  },
  {
   "cell_type": "code",
   "execution_count": 15,
   "metadata": {
    "collapsed": true
   },
   "outputs": [],
   "source": [
    "C = zeros(n);"
   ]
  },
  {
   "cell_type": "code",
   "execution_count": 16,
   "metadata": {
    "collapsed": true
   },
   "outputs": [],
   "source": [
    "C_computed = similar(C)\n",
    "x_opt = similar(C)\n",
    "tol = sqrt(eps())\n",
    "max_iter = 500\n",
    "C_error = 1.0\n",
    "i = 1\n",
    "\n",
    "while C_error > tol && i <= max_iter\n",
    "    C_computed, x_opt = update_Bellman2(WM, C)\n",
    "    C_error = maximum(abs, C_computed - C) \n",
    "    copy!(C, C_computed)\n",
    "    i += 1\n",
    "end"
   ]
  },
  {
   "cell_type": "code",
   "execution_count": 17,
   "metadata": {},
   "outputs": [
    {
     "data": {
      "text/plain": [
       "(175, 1.4595585184906668e-8, [0.636187, 0.697073, 0.802328, 0.929396, 1.06002, 1.18159, 1.28661, 1.36982, 1.42729, 1.45667])"
      ]
     },
     "execution_count": 17,
     "metadata": {},
     "output_type": "execute_result"
    }
   ],
   "source": [
    "i, C_error, x_opt"
   ]
  },
  {
   "cell_type": "code",
   "execution_count": 18,
   "metadata": {
    "collapsed": true
   },
   "outputs": [],
   "source": [
    "ss = linspace(s_min, s_max, 50)\n",
    "x_opt = Array{Float64}(length(ss))\n",
    "for (s_idx, s) in enumerate(ss)\n",
    "    objective(x) = -(a1/(1+b1) * x^(1+b1) + a2/(1+b2) * (s-x)^(1+b2)\n",
    "                   + delta * dot(weight ,funeval(C, basis, s - x + epsilon)))\n",
    "    opt = optimize(objective, 0, s)\n",
    "    x_opt[s_idx] = opt.minimizer\n",
    "end"
   ]
  },
  {
   "cell_type": "code",
   "execution_count": 19,
   "metadata": {
    "collapsed": true
   },
   "outputs": [],
   "source": [
    "B1 = evalbase(basis.params[1], ss, 1)\n",
    "cheb_shadow_prices = B1 * C;"
   ]
  },
  {
   "cell_type": "markdown",
   "metadata": {},
   "source": [
    "### Linear Quadratic approximation"
   ]
  },
  {
   "cell_type": "code",
   "execution_count": 20,
   "metadata": {},
   "outputs": [
    {
     "data": {
      "text/plain": [
       "approx_lq (generic function with 1 method)"
      ]
     },
     "execution_count": 20,
     "metadata": {},
     "output_type": "execute_result"
    }
   ],
   "source": [
    "function approx_lq(s_star, x_star, f_star, Df_star, DDf_star, g_star, Dg_star, discount)\n",
    "    n = 2  # Dim of state variable (1, s)\n",
    "    k = 1  # Dim of control variable x\n",
    "    sx_star = [s_star, x_star]\n",
    "    \n",
    "    # (1, s)' R (1, s) + 2 x N (1, s) + x Q x\n",
    "    Q = Array{Float64}(k, k)\n",
    "    R = Array{Float64}(n, n)\n",
    "    N = Array{Float64}(k, n)\n",
    "    R[1, 1] = -(f_star - Df_star' * sx_star + (sx_star' * DDf_star * sx_star) / 2)\n",
    "    R[2, 2], N[1, 2], N[1, 2], Q[1, 1] = -DDf_star / 2\n",
    "    R[2, 1], N[1, 1] = -(Df_star - DDf_star * sx_star) / 2\n",
    "    R[1, 2] = R[2, 1]\n",
    "    \n",
    "    # A (1, s) + B x + C w\n",
    "    A = Array{Float64}(n, n)\n",
    "    B = Array{Float64}(n, k)\n",
    "    C = zeros(n, 1)\n",
    "    A[1, 1], A[1, 2], B[1, 1] = 1, 0, 0\n",
    "    A[2, 1] = g_star - Dg_star' * sx_star\n",
    "    A[2, 2], B[2, 1] = Dg_star\n",
    "    \n",
    "    lq = LQ(Q, R, A, B, C, N, bet=discount)\n",
    "    return lq\n",
    "end"
   ]
  },
  {
   "cell_type": "code",
   "execution_count": 21,
   "metadata": {},
   "outputs": [
    {
     "data": {
      "text/html": [
       "0.9801986733067553"
      ],
      "text/plain": [
       "0.9801986733067553"
      ]
     },
     "execution_count": 21,
     "metadata": {},
     "output_type": "execute_result"
    }
   ],
   "source": [
    "estar = exp(-sigma^2/2)"
   ]
  },
  {
   "cell_type": "code",
   "execution_count": 22,
   "metadata": {
    "collapsed": true
   },
   "outputs": [],
   "source": [
    "f(s, x) = a1 * x^(1+b1)/(1 + b1) + a2 * (s - x)^(1 + b2)/(1 + b2)\n",
    "f_s(s, x) = a2 * (s - x)^b2\n",
    "f_x(s, x) = a1 * x^b1 - a2 * (s - x)^b2 \n",
    "f_ss(s, x) = a2 * b2 * (s - x)^(b2 - 1)\n",
    "f_sx(s, x) = -a2 * b2 * (s - x)^(b2 - 1)\n",
    "f_xx(s, x) = a1 * b1 * x^(b1 - 1) + a2 * b2 * (s - x)^(b2 - 1)\n",
    "\n",
    "g(s, x) = s - x + estar\n",
    "g_s(s, x) = 1\n",
    "g_x(s, x) = -1;"
   ]
  },
  {
   "cell_type": "code",
   "execution_count": 23,
   "metadata": {},
   "outputs": [
    {
     "data": {
      "text/plain": [
       "(3.7144176165949068, 1)"
      ]
     },
     "execution_count": 23,
     "metadata": {},
     "output_type": "execute_result"
    }
   ],
   "source": [
    "x_star = 1\n",
    "s_star = 1 + (a1 * (1 - delta)/a2)^(1/b2)\n",
    "s_star, x_star"
   ]
  },
  {
   "cell_type": "code",
   "execution_count": 24,
   "metadata": {},
   "outputs": [
    {
     "data": {
      "text/html": [
       "0.8080012953777312"
      ],
      "text/plain": [
       "0.8080012953777312"
      ]
     },
     "execution_count": 24,
     "metadata": {},
     "output_type": "execute_result"
    }
   ],
   "source": [
    "f_x(s_star, x_star) + delta * f_s(g(s_star, x_star), x_star) * g_x(s_star, x_star)"
   ]
  },
  {
   "cell_type": "code",
   "execution_count": 25,
   "metadata": {
    "collapsed": true
   },
   "outputs": [],
   "source": [
    "f_star = f(s_star, x_star)\n",
    "Df_star = [f_s(s_star, x_star), f_x(s_star, x_star)]\n",
    "DDf_star = [f_ss(s_star, x_star) f_sx(s_star, x_star);\n",
    "            f_sx(s_star, x_star) f_xx(s_star, x_star)]\n",
    "g_star = g(s_star, x_star)\n",
    "Dg_star = [g_s(s_star, x_star), g_x(s_star, x_star)];"
   ]
  },
  {
   "cell_type": "code",
   "execution_count": 26,
   "metadata": {},
   "outputs": [
    {
     "data": {
      "text/plain": [
       "QuantEcon.LQ([1.05526], [3.81433 -0.2; -0.2 0.0552605], [1.0 0.0; 0.980199 1.0], [0.0; -1.0], [0.0; 0.0], [-1.3 -0.0552605], 0.9, nothing, [NaN NaN; NaN NaN], [NaN NaN; NaN NaN], 0.0, [0.0 0.0])"
      ]
     },
     "execution_count": 26,
     "metadata": {},
     "output_type": "execute_result"
    }
   ],
   "source": [
    "lq = approx_lq(s_star, x_star, f_star, Df_star, DDf_star, g_star, Dg_star, delta)"
   ]
  },
  {
   "cell_type": "code",
   "execution_count": 27,
   "metadata": {},
   "outputs": [
    {
     "data": {
      "text/plain": [
       "([17.757 -1.16418; -1.16418 0.176119], [-0.335817 -0.176119], 0.0)"
      ]
     },
     "execution_count": 27,
     "metadata": {},
     "output_type": "execute_result"
    }
   ],
   "source": [
    "P, F, d = stationary_values(lq)"
   ]
  },
  {
   "cell_type": "code",
   "execution_count": 28,
   "metadata": {},
   "outputs": [
    {
     "data": {
      "text/plain": [
       "V_LQ (generic function with 1 method)"
      ]
     },
     "execution_count": 28,
     "metadata": {},
     "output_type": "execute_result"
    }
   ],
   "source": [
    "V_LQ(s) = [1, s]' * P * [1, s] + d"
   ]
  },
  {
   "cell_type": "code",
   "execution_count": 29,
   "metadata": {},
   "outputs": [
    {
     "data": {
      "text/html": [
       "11.538393067945846"
      ],
      "text/plain": [
       "11.538393067945846"
      ]
     },
     "execution_count": 29,
     "metadata": {},
     "output_type": "execute_result"
    }
   ],
   "source": [
    "V_LQ(s_star)"
   ]
  },
  {
   "cell_type": "code",
   "execution_count": 30,
   "metadata": {},
   "outputs": [
    {
     "data": {
      "text/html": [
       "11.357208808297454"
      ],
      "text/plain": [
       "11.357208808297454"
      ]
     },
     "execution_count": 30,
     "metadata": {},
     "output_type": "execute_result"
    }
   ],
   "source": [
    "-f_star / (1 - lq.bet)"
   ]
  },
  {
   "cell_type": "code",
   "execution_count": 31,
   "metadata": {},
   "outputs": [
    {
     "data": {
      "text/plain": [
       "X_LQ (generic function with 1 method)"
      ]
     },
     "execution_count": 31,
     "metadata": {},
     "output_type": "execute_result"
    }
   ],
   "source": [
    "X_LQ(s) = - (F * [1, s])[1]"
   ]
  },
  {
   "cell_type": "code",
   "execution_count": 32,
   "metadata": {},
   "outputs": [
    {
     "data": {
      "text/html": [
       "0.9899968896779613"
      ],
      "text/plain": [
       "0.9899968896779613"
      ]
     },
     "execution_count": 32,
     "metadata": {},
     "output_type": "execute_result"
    }
   ],
   "source": [
    "X_LQ(s_star)"
   ]
  },
  {
   "cell_type": "code",
   "execution_count": 33,
   "metadata": {},
   "outputs": [
    {
     "data": {
      "text/html": [
       "1"
      ],
      "text/plain": [
       "1"
      ]
     },
     "execution_count": 33,
     "metadata": {},
     "output_type": "execute_result"
    }
   ],
   "source": [
    "x_star"
   ]
  },
  {
   "cell_type": "code",
   "execution_count": 34,
   "metadata": {},
   "outputs": [
    {
     "data": {
      "text/html": [
       "<img src=\"data:image/png;base64,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\" />"
      ]
     },
     "execution_count": 34,
     "metadata": {},
     "output_type": "execute_result"
    }
   ],
   "source": [
    "s_min, s_max = 2, 7\n",
    "ys = [x_opt, X_LQ.(ss)]\n",
    "title = \"Optimal Irrigation Policy\"\n",
    "xlabel = \"Water Level\"\n",
    "ylabel = \"Irrigation\"\n",
    "labels = [\"Chebychev\" \"L-Q\"]\n",
    "plot(ss, ys, xlims=(s_min, s_max), ylims=(0.6, 1.6),\n",
    "     title=title, xlabel=xlabel, ylabel=ylabel, label = labels)\n",
    "plot!([s_star], [x_star], m=(7,:star8), label=\"\")"
   ]
  },
  {
   "cell_type": "code",
   "execution_count": 35,
   "metadata": {},
   "outputs": [
    {
     "data": {
      "text/html": [
       "<img src=\"data:image/png;base64,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\" />"
      ]
     },
     "execution_count": 35,
     "metadata": {},
     "output_type": "execute_result"
    }
   ],
   "source": [
    "lq_shadow_price(s) = -2 * (P * [1, s])[2]\n",
    "ys = [cheb_shadow_prices, lq_shadow_price.(ss)]\n",
    "title = \"Shadow Price Function\"\n",
    "ylabel = \"Price\"\n",
    "labels = [\"Chebychev\" \"L-Q\"]\n",
    "plot(ss, ys, xlims=(s_min, s_max), ylims=(-0.5, 2.5),\n",
    "     title=title, xlabel=xlabel, ylabel=ylabel, label=labels)\n",
    "plot!([s_star], [lq_shadow_price(s_star)], m=(7,:star8), label=\"\")"
   ]
  },
  {
   "cell_type": "code",
   "execution_count": 36,
   "metadata": {
    "collapsed": true
   },
   "outputs": [],
   "source": [
    "V_new = Array{Float64}(length(ss))\n",
    "for (s_idx, s) in enumerate(ss)\n",
    "    objective(x) = -(a1/(1+b1) * x^(1+b1) + a2/(1+b2) * (s-x)^(1+b2)\n",
    "                   + delta * dot(weight ,funeval(C, basis, s - x + epsilon)))\n",
    "    opt = optimize(objective, 0, s)\n",
    "    V_new[s_idx] = -opt.minimum\n",
    "end\n",
    "Resid = V_new - funeval(C, basis, ss);"
   ]
  },
  {
   "cell_type": "code",
   "execution_count": 37,
   "metadata": {},
   "outputs": [
    {
     "data": {
      "text/html": [
       "<img src=\"data:image/png;base64,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\" />"
      ]
     },
     "execution_count": 37,
     "metadata": {},
     "output_type": "execute_result"
    }
   ],
   "source": [
    "plot(ss, Resid, yformatter=:scientific)"
   ]
  },
  {
   "cell_type": "code",
   "execution_count": null,
   "metadata": {
    "collapsed": true
   },
   "outputs": [],
   "source": []
  }
 ],
 "metadata": {
  "kernelspec": {
   "display_name": "Julia 0.6.0",
   "language": "julia",
   "name": "julia-0.6"
  },
  "language_info": {
   "file_extension": ".jl",
   "mimetype": "application/julia",
   "name": "julia",
   "version": "0.6.0"
  }
 },
 "nbformat": 4,
 "nbformat_minor": 2
}
